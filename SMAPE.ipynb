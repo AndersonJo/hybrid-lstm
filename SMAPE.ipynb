{
 "cells": [
  {
   "cell_type": "code",
   "execution_count": 1,
   "metadata": {},
   "outputs": [
    {
     "name": "stdout",
     "output_type": "stream",
     "text": [
      "Populating the interactive namespace from numpy and matplotlib\n"
     ]
    }
   ],
   "source": [
    "%pylab inline\n",
    "import numpy as np\n",
    "import pandas as pd"
   ]
  },
  {
   "cell_type": "markdown",
   "metadata": {},
   "source": [
    "# Symmetric Mean Absolute Percentage Error\n",
    "\n",
    "$$ \\text{SMAPE} =  \\frac{100\\%}{n} \\sum^n_{t=1} \n",
    "\\frac{\\left| \\hat{y}_t - y_t \\right|}{(\\left|y_t \\right| + \\left|\\hat{y}_t \\right|) /2} $$\n"
   ]
  },
  {
   "cell_type": "code",
   "execution_count": 40,
   "metadata": {},
   "outputs": [
    {
     "name": "stdout",
     "output_type": "stream",
     "text": [
      "smape(a, a): 0.0\n",
      "smape(a, b): 13.1774891775\n",
      "smape(a, c): 181.818181818\n",
      "smape(a, d): 277.813431224\n",
      "smape(a, e): 400.0\n"
     ]
    }
   ],
   "source": [
    "def smape(y_true, y_pred):\n",
    "    denominator = (np.abs(y_true) + np.abs(y_pred)) / 2.\n",
    "    nominator = np.abs(y_pred - y_true)\n",
    "    diff = nominator/denominator\n",
    "    return 200 * np.mean(diff)\n",
    "\n",
    "a = np.array([1, 2, 3, 4, 5, 6, 7, 8, 9, 10])\n",
    "b = np.array([1.2, 2, 3, 4, 5.5, 6, 7, 8, 11, 12])\n",
    "c = np.array([10, 9, 8, 7, 6, 5, 4, 3, 2, 1])\n",
    "d = np.array([100, 0, 20, 10, 1, 2, 3, 5, 0, -1])\n",
    "e = np.array([0, 0, 0, 0,  0, 0, 0, 0, 0, 0])\n",
    "\n",
    "print('smape(a, a):', smape(a, a))\n",
    "print('smape(a, b):', smape(a, b))\n",
    "print('smape(a, c):', smape(a, c))\n",
    "print('smape(a, d):', smape(a, d))\n",
    "print('smape(a, e):', smape(a, e))"
   ]
  }
 ],
 "metadata": {
  "kernelspec": {
   "display_name": "Python 3",
   "language": "python",
   "name": "python3"
  },
  "language_info": {
   "codemirror_mode": {
    "name": "ipython",
    "version": 3
   },
   "file_extension": ".py",
   "mimetype": "text/x-python",
   "name": "python",
   "nbconvert_exporter": "python",
   "pygments_lexer": "ipython3",
   "version": "3.6.1"
  }
 },
 "nbformat": 4,
 "nbformat_minor": 2
}
