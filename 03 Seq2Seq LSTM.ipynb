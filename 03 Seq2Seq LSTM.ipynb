{
 "cells": [
  {
   "cell_type": "code",
   "execution_count": 1,
   "metadata": {
    "collapsed": false,
    "deletable": true,
    "editable": true
   },
   "outputs": [
    {
     "name": "stdout",
     "output_type": "stream",
     "text": [
      "Populating the interactive namespace from numpy and matplotlib\n"
     ]
    },
    {
     "name": "stderr",
     "output_type": "stream",
     "text": [
      "Using TensorFlow backend.\n"
     ]
    }
   ],
   "source": [
    "%pylab inline\n",
    "# %env CUDA_VISIBLE_DEVICES=\"\"\n",
    "\n",
    "import numpy as np\n",
    "import pandas as pd\n",
    "from sklearn.model_selection import train_test_split\n",
    "from sklearn.preprocessing import MinMaxScaler\n",
    "from sklearn.metrics import r2_score\n",
    "\n",
    "from keras import backend as K\n",
    "from keras.preprocessing.sequence import pad_sequences\n",
    "from keras.models import Sequential\n",
    "from keras.layers import LSTM, Bidirectional, Dense, TimeDistributed, RepeatVector\n",
    "from keras.layers import BatchNormalization, Dropout\n",
    "from keras.layers import Activation\n",
    "from keras.callbacks import History, TensorBoard\n",
    "\n",
    "from tools import load_household_power_consumption\n",
    "from tools import to_timeseries\n",
    "from tools import split_x_y, split_train_test\n",
    "from tools import vis_evaluate\n",
    "\n",
    "from keras.utils.vis_utils import plot_model\n",
    "from keras.utils.vis_utils import model_to_dot\n",
    "from IPython.display import display\n",
    "from IPython.display import SVG, Image"
   ]
  },
  {
   "cell_type": "markdown",
   "metadata": {
    "deletable": true,
    "editable": true
   },
   "source": [
    "# Configuration"
   ]
  },
  {
   "cell_type": "code",
   "execution_count": 2,
   "metadata": {
    "collapsed": true,
    "deletable": true,
    "editable": true
   },
   "outputs": [],
   "source": [
    "SEQUENCE_SIZE = 64\n",
    "BATCH_SIZE = 2048"
   ]
  },
  {
   "cell_type": "markdown",
   "metadata": {
    "deletable": true,
    "editable": true
   },
   "source": [
    "# Data"
   ]
  },
  {
   "cell_type": "code",
   "execution_count": 3,
   "metadata": {
    "collapsed": false,
    "deletable": true,
    "editable": true
   },
   "outputs": [
    {
     "name": "stderr",
     "output_type": "stream",
     "text": [
      "2017-08-22 21:15:17,764 [hybrid-lstm.tool | INFO] Load existing dataset\n"
     ]
    },
    {
     "name": "stdout",
     "output_type": "stream",
     "text": [
      "data_x: (43642, 31)\n",
      "data_y: (43642, 1)\n",
      "train_x: (34812, 64, 30)\n",
      "train_y: (34812, 64, 1)\n",
      "test_x: (8703, 64, 30)\n",
      "test_y: (8703, 64, 1)\n"
     ]
    }
   ],
   "source": [
    "dataset = load_household_power_consumption(hour_one_hot=True)\n",
    "data_x, data_y = split_x_y(dataset)\n",
    "\n",
    "data_x = MinMaxScaler().fit_transform(data_x)\n",
    "data_y = MinMaxScaler().fit_transform(data_y)\n",
    "\n",
    "train_x, train_y, test_x, test_y = split_train_test(\n",
    "    to_timeseries(data_x[:-SEQUENCE_SIZE], True, t=SEQUENCE_SIZE), \n",
    "    to_timeseries(data_y[SEQUENCE_SIZE:], t=SEQUENCE_SIZE), \n",
    "    train_ratio=0.8)\n",
    "\n",
    "print('data_x:', data_x.shape)\n",
    "print('data_y:', data_y.shape)\n",
    "print('train_x:', train_x.shape)\n",
    "print('train_y:', train_y.shape)\n",
    "print('test_x:', test_x.shape)\n",
    "print('test_y:', test_y.shape)"
   ]
  },
  {
   "cell_type": "markdown",
   "metadata": {
    "deletable": true,
    "editable": true
   },
   "source": [
    "# Models"
   ]
  },
  {
   "cell_type": "code",
   "execution_count": 17,
   "metadata": {
    "collapsed": false
   },
   "outputs": [
    {
     "data": {
      "image/svg+xml": [
       "<svg height=\"553pt\" viewBox=\"0.00 0.00 487.00 553.00\" width=\"487pt\" xmlns=\"http://www.w3.org/2000/svg\" xmlns:xlink=\"http://www.w3.org/1999/xlink\">\n",
       "<g class=\"graph\" id=\"graph0\" transform=\"scale(1 1) rotate(0) translate(4 549)\">\n",
       "<title>G</title>\n",
       "<polygon fill=\"white\" points=\"-4,4 -4,-549 483,-549 483,4 -4,4\" stroke=\"none\"/>\n",
       "<!-- 140202699199208 -->\n",
       "<g class=\"node\" id=\"node1\"><title>140202699199208</title>\n",
       "<polygon fill=\"none\" points=\"63.5,-498.5 63.5,-544.5 415.5,-544.5 415.5,-498.5 63.5,-498.5\" stroke=\"black\"/>\n",
       "<text font-family=\"Times,serif\" font-size=\"14.00\" text-anchor=\"middle\" x=\"167\" y=\"-517.8\">bidirectional_24_input: InputLayer</text>\n",
       "<polyline fill=\"none\" points=\"270.5,-498.5 270.5,-544.5 \" stroke=\"black\"/>\n",
       "<text font-family=\"Times,serif\" font-size=\"14.00\" text-anchor=\"middle\" x=\"298\" y=\"-529.3\">input:</text>\n",
       "<polyline fill=\"none\" points=\"270.5,-521.5 325.5,-521.5 \" stroke=\"black\"/>\n",
       "<text font-family=\"Times,serif\" font-size=\"14.00\" text-anchor=\"middle\" x=\"298\" y=\"-506.3\">output:</text>\n",
       "<polyline fill=\"none\" points=\"325.5,-498.5 325.5,-544.5 \" stroke=\"black\"/>\n",
       "<text font-family=\"Times,serif\" font-size=\"14.00\" text-anchor=\"middle\" x=\"370.5\" y=\"-529.3\">(None, 64, 1)</text>\n",
       "<polyline fill=\"none\" points=\"325.5,-521.5 415.5,-521.5 \" stroke=\"black\"/>\n",
       "<text font-family=\"Times,serif\" font-size=\"14.00\" text-anchor=\"middle\" x=\"370.5\" y=\"-506.3\">(None, 64, 1)</text>\n",
       "</g>\n",
       "<!-- 140202699198592 -->\n",
       "<g class=\"node\" id=\"node2\"><title>140202699198592</title>\n",
       "<polygon fill=\"none\" points=\"26,-415.5 26,-461.5 453,-461.5 453,-415.5 26,-415.5\" stroke=\"black\"/>\n",
       "<text font-family=\"Times,serif\" font-size=\"14.00\" text-anchor=\"middle\" x=\"167\" y=\"-434.8\">bidirectional_24(lstm_24): Bidirectional(LSTM)</text>\n",
       "<polyline fill=\"none\" points=\"308,-415.5 308,-461.5 \" stroke=\"black\"/>\n",
       "<text font-family=\"Times,serif\" font-size=\"14.00\" text-anchor=\"middle\" x=\"335.5\" y=\"-446.3\">input:</text>\n",
       "<polyline fill=\"none\" points=\"308,-438.5 363,-438.5 \" stroke=\"black\"/>\n",
       "<text font-family=\"Times,serif\" font-size=\"14.00\" text-anchor=\"middle\" x=\"335.5\" y=\"-423.3\">output:</text>\n",
       "<polyline fill=\"none\" points=\"363,-415.5 363,-461.5 \" stroke=\"black\"/>\n",
       "<text font-family=\"Times,serif\" font-size=\"14.00\" text-anchor=\"middle\" x=\"408\" y=\"-446.3\">(None, 64, 1)</text>\n",
       "<polyline fill=\"none\" points=\"363,-438.5 453,-438.5 \" stroke=\"black\"/>\n",
       "<text font-family=\"Times,serif\" font-size=\"14.00\" text-anchor=\"middle\" x=\"408\" y=\"-423.3\">(None, 512)</text>\n",
       "</g>\n",
       "<!-- 140202699199208&#45;&gt;140202699198592 -->\n",
       "<g class=\"edge\" id=\"edge1\"><title>140202699199208-&gt;140202699198592</title>\n",
       "<path d=\"M239.5,-498.366C239.5,-490.152 239.5,-480.658 239.5,-471.725\" fill=\"none\" stroke=\"black\"/>\n",
       "<polygon fill=\"black\" points=\"243,-471.607 239.5,-461.607 236,-471.607 243,-471.607\" stroke=\"black\"/>\n",
       "</g>\n",
       "<!-- 140202699199264 -->\n",
       "<g class=\"node\" id=\"node3\"><title>140202699199264</title>\n",
       "<polygon fill=\"none\" points=\"116,-332.5 116,-378.5 363,-378.5 363,-332.5 116,-332.5\" stroke=\"black\"/>\n",
       "<text font-family=\"Times,serif\" font-size=\"14.00\" text-anchor=\"middle\" x=\"170.5\" y=\"-351.8\">dense_20: Dense</text>\n",
       "<polyline fill=\"none\" points=\"225,-332.5 225,-378.5 \" stroke=\"black\"/>\n",
       "<text font-family=\"Times,serif\" font-size=\"14.00\" text-anchor=\"middle\" x=\"252.5\" y=\"-363.3\">input:</text>\n",
       "<polyline fill=\"none\" points=\"225,-355.5 280,-355.5 \" stroke=\"black\"/>\n",
       "<text font-family=\"Times,serif\" font-size=\"14.00\" text-anchor=\"middle\" x=\"252.5\" y=\"-340.3\">output:</text>\n",
       "<polyline fill=\"none\" points=\"280,-332.5 280,-378.5 \" stroke=\"black\"/>\n",
       "<text font-family=\"Times,serif\" font-size=\"14.00\" text-anchor=\"middle\" x=\"321.5\" y=\"-363.3\">(None, 512)</text>\n",
       "<polyline fill=\"none\" points=\"280,-355.5 363,-355.5 \" stroke=\"black\"/>\n",
       "<text font-family=\"Times,serif\" font-size=\"14.00\" text-anchor=\"middle\" x=\"321.5\" y=\"-340.3\">(None, 256)</text>\n",
       "</g>\n",
       "<!-- 140202699198592&#45;&gt;140202699199264 -->\n",
       "<g class=\"edge\" id=\"edge2\"><title>140202699198592-&gt;140202699199264</title>\n",
       "<path d=\"M239.5,-415.366C239.5,-407.152 239.5,-397.658 239.5,-388.725\" fill=\"none\" stroke=\"black\"/>\n",
       "<polygon fill=\"black\" points=\"243,-388.607 239.5,-378.607 236,-388.607 243,-388.607\" stroke=\"black\"/>\n",
       "</g>\n",
       "<!-- 140202430014240 -->\n",
       "<g class=\"node\" id=\"node4\"><title>140202430014240</title>\n",
       "<polygon fill=\"none\" points=\"93,-249.5 93,-295.5 386,-295.5 386,-249.5 93,-249.5\" stroke=\"black\"/>\n",
       "<text font-family=\"Times,serif\" font-size=\"14.00\" text-anchor=\"middle\" x=\"170.5\" y=\"-268.8\">activation_14: Activation</text>\n",
       "<polyline fill=\"none\" points=\"248,-249.5 248,-295.5 \" stroke=\"black\"/>\n",
       "<text font-family=\"Times,serif\" font-size=\"14.00\" text-anchor=\"middle\" x=\"275.5\" y=\"-280.3\">input:</text>\n",
       "<polyline fill=\"none\" points=\"248,-272.5 303,-272.5 \" stroke=\"black\"/>\n",
       "<text font-family=\"Times,serif\" font-size=\"14.00\" text-anchor=\"middle\" x=\"275.5\" y=\"-257.3\">output:</text>\n",
       "<polyline fill=\"none\" points=\"303,-249.5 303,-295.5 \" stroke=\"black\"/>\n",
       "<text font-family=\"Times,serif\" font-size=\"14.00\" text-anchor=\"middle\" x=\"344.5\" y=\"-280.3\">(None, 256)</text>\n",
       "<polyline fill=\"none\" points=\"303,-272.5 386,-272.5 \" stroke=\"black\"/>\n",
       "<text font-family=\"Times,serif\" font-size=\"14.00\" text-anchor=\"middle\" x=\"344.5\" y=\"-257.3\">(None, 256)</text>\n",
       "</g>\n",
       "<!-- 140202699199264&#45;&gt;140202430014240 -->\n",
       "<g class=\"edge\" id=\"edge3\"><title>140202699199264-&gt;140202430014240</title>\n",
       "<path d=\"M239.5,-332.366C239.5,-324.152 239.5,-314.658 239.5,-305.725\" fill=\"none\" stroke=\"black\"/>\n",
       "<polygon fill=\"black\" points=\"243,-305.607 239.5,-295.607 236,-305.607 243,-305.607\" stroke=\"black\"/>\n",
       "</g>\n",
       "<!-- 140202430015136 -->\n",
       "<g class=\"node\" id=\"node5\"><title>140202430015136</title>\n",
       "<polygon fill=\"none\" points=\"64,-166.5 64,-212.5 415,-212.5 415,-166.5 64,-166.5\" stroke=\"black\"/>\n",
       "<text font-family=\"Times,serif\" font-size=\"14.00\" text-anchor=\"middle\" x=\"160\" y=\"-185.8\">repeat_vector_11: RepeatVector</text>\n",
       "<polyline fill=\"none\" points=\"256,-166.5 256,-212.5 \" stroke=\"black\"/>\n",
       "<text font-family=\"Times,serif\" font-size=\"14.00\" text-anchor=\"middle\" x=\"283.5\" y=\"-197.3\">input:</text>\n",
       "<polyline fill=\"none\" points=\"256,-189.5 311,-189.5 \" stroke=\"black\"/>\n",
       "<text font-family=\"Times,serif\" font-size=\"14.00\" text-anchor=\"middle\" x=\"283.5\" y=\"-174.3\">output:</text>\n",
       "<polyline fill=\"none\" points=\"311,-166.5 311,-212.5 \" stroke=\"black\"/>\n",
       "<text font-family=\"Times,serif\" font-size=\"14.00\" text-anchor=\"middle\" x=\"363\" y=\"-197.3\">(None, 256)</text>\n",
       "<polyline fill=\"none\" points=\"311,-189.5 415,-189.5 \" stroke=\"black\"/>\n",
       "<text font-family=\"Times,serif\" font-size=\"14.00\" text-anchor=\"middle\" x=\"363\" y=\"-174.3\">(None, 64, 256)</text>\n",
       "</g>\n",
       "<!-- 140202430014240&#45;&gt;140202430015136 -->\n",
       "<g class=\"edge\" id=\"edge4\"><title>140202430014240-&gt;140202430015136</title>\n",
       "<path d=\"M239.5,-249.366C239.5,-241.152 239.5,-231.658 239.5,-222.725\" fill=\"none\" stroke=\"black\"/>\n",
       "<polygon fill=\"black\" points=\"243,-222.607 239.5,-212.607 236,-222.607 243,-222.607\" stroke=\"black\"/>\n",
       "</g>\n",
       "<!-- 140202429696488 -->\n",
       "<g class=\"node\" id=\"node6\"><title>140202429696488</title>\n",
       "<polygon fill=\"none\" points=\"107.5,-83.5 107.5,-129.5 371.5,-129.5 371.5,-83.5 107.5,-83.5\" stroke=\"black\"/>\n",
       "<text font-family=\"Times,serif\" font-size=\"14.00\" text-anchor=\"middle\" x=\"160\" y=\"-102.8\">lstm_25: LSTM</text>\n",
       "<polyline fill=\"none\" points=\"212.5,-83.5 212.5,-129.5 \" stroke=\"black\"/>\n",
       "<text font-family=\"Times,serif\" font-size=\"14.00\" text-anchor=\"middle\" x=\"240\" y=\"-114.3\">input:</text>\n",
       "<polyline fill=\"none\" points=\"212.5,-106.5 267.5,-106.5 \" stroke=\"black\"/>\n",
       "<text font-family=\"Times,serif\" font-size=\"14.00\" text-anchor=\"middle\" x=\"240\" y=\"-91.3\">output:</text>\n",
       "<polyline fill=\"none\" points=\"267.5,-83.5 267.5,-129.5 \" stroke=\"black\"/>\n",
       "<text font-family=\"Times,serif\" font-size=\"14.00\" text-anchor=\"middle\" x=\"319.5\" y=\"-114.3\">(None, 64, 256)</text>\n",
       "<polyline fill=\"none\" points=\"267.5,-106.5 371.5,-106.5 \" stroke=\"black\"/>\n",
       "<text font-family=\"Times,serif\" font-size=\"14.00\" text-anchor=\"middle\" x=\"319.5\" y=\"-91.3\">(None, 64, 256)</text>\n",
       "</g>\n",
       "<!-- 140202430015136&#45;&gt;140202429696488 -->\n",
       "<g class=\"edge\" id=\"edge5\"><title>140202430015136-&gt;140202429696488</title>\n",
       "<path d=\"M239.5,-166.366C239.5,-158.152 239.5,-148.658 239.5,-139.725\" fill=\"none\" stroke=\"black\"/>\n",
       "<polygon fill=\"black\" points=\"243,-139.607 239.5,-129.607 236,-139.607 243,-139.607\" stroke=\"black\"/>\n",
       "</g>\n",
       "<!-- 140202359673184 -->\n",
       "<g class=\"node\" id=\"node7\"><title>140202359673184</title>\n",
       "<polygon fill=\"none\" points=\"0,-0.5 0,-46.5 479,-46.5 479,-0.5 0,-0.5\" stroke=\"black\"/>\n",
       "<text font-family=\"Times,serif\" font-size=\"14.00\" text-anchor=\"middle\" x=\"160\" y=\"-19.8\">time_distributed_7(dense_21): TimeDistributed(Dense)</text>\n",
       "<polyline fill=\"none\" points=\"320,-0.5 320,-46.5 \" stroke=\"black\"/>\n",
       "<text font-family=\"Times,serif\" font-size=\"14.00\" text-anchor=\"middle\" x=\"347.5\" y=\"-31.3\">input:</text>\n",
       "<polyline fill=\"none\" points=\"320,-23.5 375,-23.5 \" stroke=\"black\"/>\n",
       "<text font-family=\"Times,serif\" font-size=\"14.00\" text-anchor=\"middle\" x=\"347.5\" y=\"-8.3\">output:</text>\n",
       "<polyline fill=\"none\" points=\"375,-0.5 375,-46.5 \" stroke=\"black\"/>\n",
       "<text font-family=\"Times,serif\" font-size=\"14.00\" text-anchor=\"middle\" x=\"427\" y=\"-31.3\">(None, 64, 256)</text>\n",
       "<polyline fill=\"none\" points=\"375,-23.5 479,-23.5 \" stroke=\"black\"/>\n",
       "<text font-family=\"Times,serif\" font-size=\"14.00\" text-anchor=\"middle\" x=\"427\" y=\"-8.3\">(None, 64, 1)</text>\n",
       "</g>\n",
       "<!-- 140202429696488&#45;&gt;140202359673184 -->\n",
       "<g class=\"edge\" id=\"edge6\"><title>140202429696488-&gt;140202359673184</title>\n",
       "<path d=\"M239.5,-83.3664C239.5,-75.1516 239.5,-65.6579 239.5,-56.7252\" fill=\"none\" stroke=\"black\"/>\n",
       "<polygon fill=\"black\" points=\"243,-56.6068 239.5,-46.6068 236,-56.6069 243,-56.6068\" stroke=\"black\"/>\n",
       "</g>\n",
       "</g>\n",
       "</svg>"
      ],
      "text/plain": [
       "<IPython.core.display.SVG object>"
      ]
     },
     "execution_count": 17,
     "metadata": {},
     "output_type": "execute_result"
    }
   ],
   "source": [
    "def r2(y_true, y_pred):\n",
    "    SS_res =  K.sum(K.square( y_true-y_pred )) \n",
    "    SS_tot = K.sum(K.square( y_true - K.mean(y_true) ) ) \n",
    "    return ( 1 - SS_res/(SS_tot + K.epsilon()) )\n",
    "\n",
    "def create_model(l1=256, d1=256, l2=256, n_input=30, n_output=64):\n",
    "    np.random.seed(0)\n",
    "    model = Sequential()\n",
    "    \n",
    "    # Encoder\n",
    "    model.add(Bidirectional(LSTM(l1), input_shape=(SEQUENCE_SIZE, n_input)))\n",
    "    model.add(Dense(d1))\n",
    "    model.add(Activation('relu'))\n",
    "    \n",
    "    # Decoder\n",
    "    model.add(RepeatVector(n_output))\n",
    "    model.add(LSTM(l2, return_sequences=True))\n",
    "    model.add(TimeDistributed(Dense(1)))\n",
    "    model.compile(loss='mean_squared_error', optimizer='adam', metrics=['accuracy', r2])\n",
    "    return model\n",
    "    \n",
    "    \n",
    "model = create_model(l1=256, d1=256, l2=256, n_input=1)\n",
    "SVG(model_to_dot(model, show_shapes=True).create(prog='dot', format='svg'))"
   ]
  },
  {
   "cell_type": "code",
   "execution_count": 16,
   "metadata": {
    "collapsed": false
   },
   "outputs": [
    {
     "data": {
      "text/plain": [
       "(1, 64, 1)"
      ]
     },
     "execution_count": 16,
     "metadata": {},
     "output_type": "execute_result"
    }
   ],
   "source": [
    "model = create_model(l1=256, d1=256, l2=128, n_input=30)\n",
    "model.predict(test_x[0:1]).shape"
   ]
  },
  {
   "cell_type": "markdown",
   "metadata": {
    "deletable": true,
    "editable": true
   },
   "source": [
    "# Training"
   ]
  },
  {
   "cell_type": "code",
   "execution_count": null,
   "metadata": {
    "collapsed": false,
    "deletable": true,
    "editable": true
   },
   "outputs": [
    {
     "name": "stdout",
     "output_type": "stream",
     "text": [
      "Train on 34812 samples, validate on 8703 samples\n",
      "Epoch 1/16\n",
      "10s - loss: 0.0136 - acc: 0.0000e+00 - r2: -2.6695e-01 - val_loss: 0.0062 - val_acc: 1.1490e-04 - val_r2: 0.2727\n",
      "Epoch 2/16\n",
      "9s - loss: 0.0073 - acc: 0.0000e+00 - r2: 0.3242 - val_loss: 0.0059 - val_acc: 1.1490e-04 - val_r2: 0.2582\n",
      "Epoch 3/16\n",
      "9s - loss: 0.0066 - acc: 0.0000e+00 - r2: 0.3845 - val_loss: 0.0054 - val_acc: 1.1490e-04 - val_r2: 0.3392\n",
      "Epoch 4/16\n",
      "9s - loss: 0.0063 - acc: 0.0000e+00 - r2: 0.4170 - val_loss: 0.0052 - val_acc: 1.1490e-04 - val_r2: 0.3563\n",
      "Epoch 5/16\n",
      "9s - loss: 0.0060 - acc: 0.0000e+00 - r2: 0.4472 - val_loss: 0.0049 - val_acc: 1.1490e-04 - val_r2: 0.3991\n",
      "Epoch 6/16\n",
      "9s - loss: 0.0056 - acc: 0.0000e+00 - r2: 0.4804 - val_loss: 0.0048 - val_acc: 1.1490e-04 - val_r2: 0.4172\n",
      "Epoch 7/16\n",
      "9s - loss: 0.0052 - acc: 0.0000e+00 - r2: 0.5129 - val_loss: 0.0047 - val_acc: 1.1490e-04 - val_r2: 0.4223\n",
      "Epoch 8/16\n",
      "9s - loss: 0.0050 - acc: 1.3465e-06 - r2: 0.5400 - val_loss: 0.0047 - val_acc: 1.1490e-04 - val_r2: 0.3981\n",
      "Epoch 9/16\n",
      "9s - loss: 0.0047 - acc: 1.7954e-06 - r2: 0.5593 - val_loss: 0.0046 - val_acc: 1.1490e-04 - val_r2: 0.4206\n",
      "Epoch 10/16\n"
     ]
    }
   ],
   "source": [
    "model = create_model(l1=256, d1=256, l2=128, n_input=30)\n",
    "\n",
    "history = History()\n",
    "model.fit(train_x, train_y, epochs=16, batch_size=BATCH_SIZE, verbose=2, \n",
    "          validation_data=(test_x, test_y), callbacks=[history])"
   ]
  },
  {
   "cell_type": "markdown",
   "metadata": {
    "deletable": true,
    "editable": true
   },
   "source": [
    "# Evaluation"
   ]
  },
  {
   "cell_type": "code",
   "execution_count": null,
   "metadata": {
    "collapsed": false,
    "deletable": true,
    "editable": true
   },
   "outputs": [],
   "source": [
    "%time eval_results = model.evaluate(test_x, test_y, batch_size=BATCH_SIZE, verbose=2)\n",
    "\n",
    "for k, v in zip(model.metrics_names, eval_results):\n",
    "    print(f'{k}: {v}')"
   ]
  },
  {
   "cell_type": "code",
   "execution_count": null,
   "metadata": {
    "collapsed": false,
    "deletable": true,
    "editable": true
   },
   "outputs": [],
   "source": [
    "vis_evaluate(model, test_x, test_y, batch=2048)"
   ]
  }
 ],
 "metadata": {
  "kernelspec": {
   "display_name": "Python 3",
   "language": "python",
   "name": "python3"
  },
  "language_info": {
   "codemirror_mode": {
    "name": "ipython",
    "version": 3
   },
   "file_extension": ".py",
   "mimetype": "text/x-python",
   "name": "python",
   "nbconvert_exporter": "python",
   "pygments_lexer": "ipython3",
   "version": "3.6.1"
  }
 },
 "nbformat": 4,
 "nbformat_minor": 2
}
