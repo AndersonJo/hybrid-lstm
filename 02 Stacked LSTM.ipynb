{
 "cells": [
  {
   "cell_type": "code",
   "execution_count": 1,
   "metadata": {
    "collapsed": false,
    "deletable": true,
    "editable": true
   },
   "outputs": [
    {
     "name": "stdout",
     "output_type": "stream",
     "text": [
      "Populating the interactive namespace from numpy and matplotlib\n"
     ]
    },
    {
     "name": "stderr",
     "output_type": "stream",
     "text": [
      "Using TensorFlow backend.\n"
     ]
    }
   ],
   "source": [
    "%pylab inline\n",
    "# %env CUDA_VISIBLE_DEVICES=\"\"\n",
    "\n",
    "import numpy as np\n",
    "import pandas as pd\n",
    "from sklearn.model_selection import train_test_split\n",
    "from sklearn.preprocessing import MinMaxScaler\n",
    "from sklearn.metrics import r2_score\n",
    "\n",
    "from keras import backend as K\n",
    "from keras.models import Sequential\n",
    "from keras.layers import LSTM, Bidirectional, Dense\n",
    "from keras.layers import BatchNormalization, Dropout\n",
    "from keras.layers import Activation\n",
    "from keras.callbacks import History, TensorBoard\n",
    "\n",
    "from tools import load_household_power_consumption\n",
    "from tools import to_timeseries\n",
    "from tools import split_train_test\n",
    "from tools import vis_evaluate\n",
    "\n",
    "from keras.utils.vis_utils import plot_model\n",
    "from keras.utils.vis_utils import model_to_dot\n",
    "from IPython.display import display\n",
    "from IPython.display import SVG, Image"
   ]
  },
  {
   "cell_type": "markdown",
   "metadata": {
    "deletable": true,
    "editable": true
   },
   "source": [
    "# Configuration"
   ]
  },
  {
   "cell_type": "code",
   "execution_count": 2,
   "metadata": {
    "collapsed": true,
    "deletable": true,
    "editable": true
   },
   "outputs": [],
   "source": [
    "PREDICT_SIZE = 64\n",
    "BATCH_SIZE = 2048"
   ]
  },
  {
   "cell_type": "markdown",
   "metadata": {
    "deletable": true,
    "editable": true
   },
   "source": [
    "# Data"
   ]
  },
  {
   "cell_type": "code",
   "execution_count": 3,
   "metadata": {
    "collapsed": false,
    "deletable": true,
    "editable": true
   },
   "outputs": [
    {
     "name": "stderr",
     "output_type": "stream",
     "text": [
      "2017-08-22 16:23:00,154 [hybrid-lstm.tool | INFO] Load existing dataset\n"
     ]
    },
    {
     "name": "stdout",
     "output_type": "stream",
     "text": [
      "data_x: (43642, 7)\n",
      "data_y: (43642, 1)\n",
      "train_x: (34812, 64, 7)\n",
      "train_y: (34812, 64, 1)\n",
      "test_x: (8703, 64, 7)\n",
      "test_y: (8703, 64, 1)\n"
     ]
    }
   ],
   "source": [
    "dataset, data_x, data_y = load_household_power_consumption()\n",
    "\n",
    "data_x = MinMaxScaler().fit_transform(data_x)\n",
    "data_y = MinMaxScaler().fit_transform(data_y)\n",
    "\n",
    "train_x, train_y, test_x, test_y = split_train_test(to_timeseries(data_x[:-PREDICT_SIZE], t=PREDICT_SIZE), \n",
    "                                                    to_timeseries(data_y[PREDICT_SIZE:], t=PREDICT_SIZE), \n",
    "                                                    train_ratio=0.8)\n",
    "print('data_x:', data_x.shape)\n",
    "print('data_y:', data_y.shape)\n",
    "print('train_x:', train_x.shape)\n",
    "print('train_y:', train_y.shape)\n",
    "print('test_x:', test_x.shape)\n",
    "print('test_y:', test_y.shape)"
   ]
  },
  {
   "cell_type": "markdown",
   "metadata": {
    "deletable": true,
    "editable": true
   },
   "source": [
    "# Models"
   ]
  },
  {
   "cell_type": "code",
   "execution_count": 10,
   "metadata": {
    "collapsed": false,
    "deletable": true,
    "editable": true
   },
   "outputs": [
    {
     "data": {
      "image/svg+xml": [
       "<svg height=\"304pt\" viewBox=\"0.00 0.00 436.00 304.00\" width=\"436pt\" xmlns=\"http://www.w3.org/2000/svg\" xmlns:xlink=\"http://www.w3.org/1999/xlink\">\n",
       "<g class=\"graph\" id=\"graph0\" transform=\"scale(1 1) rotate(0) translate(4 300)\">\n",
       "<title>G</title>\n",
       "<polygon fill=\"white\" points=\"-4,4 -4,-300 432,-300 432,4 -4,4\" stroke=\"none\"/>\n",
       "<!-- 140119479281200 -->\n",
       "<g class=\"node\" id=\"node1\"><title>140119479281200</title>\n",
       "<polygon fill=\"none\" points=\"41.5,-249.5 41.5,-295.5 386.5,-295.5 386.5,-249.5 41.5,-249.5\" stroke=\"black\"/>\n",
       "<text font-family=\"Times,serif\" font-size=\"14.00\" text-anchor=\"middle\" x=\"141.5\" y=\"-268.8\">bidirectional_1_input: InputLayer</text>\n",
       "<polyline fill=\"none\" points=\"241.5,-249.5 241.5,-295.5 \" stroke=\"black\"/>\n",
       "<text font-family=\"Times,serif\" font-size=\"14.00\" text-anchor=\"middle\" x=\"269\" y=\"-280.3\">input:</text>\n",
       "<polyline fill=\"none\" points=\"241.5,-272.5 296.5,-272.5 \" stroke=\"black\"/>\n",
       "<text font-family=\"Times,serif\" font-size=\"14.00\" text-anchor=\"middle\" x=\"269\" y=\"-257.3\">output:</text>\n",
       "<polyline fill=\"none\" points=\"296.5,-249.5 296.5,-295.5 \" stroke=\"black\"/>\n",
       "<text font-family=\"Times,serif\" font-size=\"14.00\" text-anchor=\"middle\" x=\"341.5\" y=\"-280.3\">(None, 64, 7)</text>\n",
       "<polyline fill=\"none\" points=\"296.5,-272.5 386.5,-272.5 \" stroke=\"black\"/>\n",
       "<text font-family=\"Times,serif\" font-size=\"14.00\" text-anchor=\"middle\" x=\"341.5\" y=\"-257.3\">(None, 64, 7)</text>\n",
       "</g>\n",
       "<!-- 140119479283328 -->\n",
       "<g class=\"node\" id=\"node2\"><title>140119479283328</title>\n",
       "<polygon fill=\"none\" points=\"-2.84217e-14,-166.5 -2.84217e-14,-212.5 428,-212.5 428,-166.5 -2.84217e-14,-166.5\" stroke=\"black\"/>\n",
       "<text font-family=\"Times,serif\" font-size=\"14.00\" text-anchor=\"middle\" x=\"134.5\" y=\"-185.8\">bidirectional_1(lstm_1): Bidirectional(LSTM)</text>\n",
       "<polyline fill=\"none\" points=\"269,-166.5 269,-212.5 \" stroke=\"black\"/>\n",
       "<text font-family=\"Times,serif\" font-size=\"14.00\" text-anchor=\"middle\" x=\"296.5\" y=\"-197.3\">input:</text>\n",
       "<polyline fill=\"none\" points=\"269,-189.5 324,-189.5 \" stroke=\"black\"/>\n",
       "<text font-family=\"Times,serif\" font-size=\"14.00\" text-anchor=\"middle\" x=\"296.5\" y=\"-174.3\">output:</text>\n",
       "<polyline fill=\"none\" points=\"324,-166.5 324,-212.5 \" stroke=\"black\"/>\n",
       "<text font-family=\"Times,serif\" font-size=\"14.00\" text-anchor=\"middle\" x=\"376\" y=\"-197.3\">(None, 64, 7)</text>\n",
       "<polyline fill=\"none\" points=\"324,-189.5 428,-189.5 \" stroke=\"black\"/>\n",
       "<text font-family=\"Times,serif\" font-size=\"14.00\" text-anchor=\"middle\" x=\"376\" y=\"-174.3\">(None, 64, 256)</text>\n",
       "</g>\n",
       "<!-- 140119479281200&#45;&gt;140119479283328 -->\n",
       "<g class=\"edge\" id=\"edge1\"><title>140119479281200-&gt;140119479283328</title>\n",
       "<path d=\"M214,-249.366C214,-241.152 214,-231.658 214,-222.725\" fill=\"none\" stroke=\"black\"/>\n",
       "<polygon fill=\"black\" points=\"217.5,-222.607 214,-212.607 210.5,-222.607 217.5,-222.607\" stroke=\"black\"/>\n",
       "</g>\n",
       "<!-- 140119482735304 -->\n",
       "<g class=\"node\" id=\"node3\"><title>140119482735304</title>\n",
       "<polygon fill=\"none\" points=\"-2.84217e-14,-83.5 -2.84217e-14,-129.5 428,-129.5 428,-83.5 -2.84217e-14,-83.5\" stroke=\"black\"/>\n",
       "<text font-family=\"Times,serif\" font-size=\"14.00\" text-anchor=\"middle\" x=\"134.5\" y=\"-102.8\">bidirectional_2(lstm_2): Bidirectional(LSTM)</text>\n",
       "<polyline fill=\"none\" points=\"269,-83.5 269,-129.5 \" stroke=\"black\"/>\n",
       "<text font-family=\"Times,serif\" font-size=\"14.00\" text-anchor=\"middle\" x=\"296.5\" y=\"-114.3\">input:</text>\n",
       "<polyline fill=\"none\" points=\"269,-106.5 324,-106.5 \" stroke=\"black\"/>\n",
       "<text font-family=\"Times,serif\" font-size=\"14.00\" text-anchor=\"middle\" x=\"296.5\" y=\"-91.3\">output:</text>\n",
       "<polyline fill=\"none\" points=\"324,-83.5 324,-129.5 \" stroke=\"black\"/>\n",
       "<text font-family=\"Times,serif\" font-size=\"14.00\" text-anchor=\"middle\" x=\"376\" y=\"-114.3\">(None, 64, 256)</text>\n",
       "<polyline fill=\"none\" points=\"324,-106.5 428,-106.5 \" stroke=\"black\"/>\n",
       "<text font-family=\"Times,serif\" font-size=\"14.00\" text-anchor=\"middle\" x=\"376\" y=\"-91.3\">(None, 64, 256)</text>\n",
       "</g>\n",
       "<!-- 140119479283328&#45;&gt;140119482735304 -->\n",
       "<g class=\"edge\" id=\"edge2\"><title>140119479283328-&gt;140119482735304</title>\n",
       "<path d=\"M214,-166.366C214,-158.152 214,-148.658 214,-139.725\" fill=\"none\" stroke=\"black\"/>\n",
       "<polygon fill=\"black\" points=\"217.5,-139.607 214,-129.607 210.5,-139.607 217.5,-139.607\" stroke=\"black\"/>\n",
       "</g>\n",
       "<!-- 140119481664960 -->\n",
       "<g class=\"node\" id=\"node4\"><title>140119481664960</title>\n",
       "<polygon fill=\"none\" points=\"83.5,-0.5 83.5,-46.5 344.5,-46.5 344.5,-0.5 83.5,-0.5\" stroke=\"black\"/>\n",
       "<text font-family=\"Times,serif\" font-size=\"14.00\" text-anchor=\"middle\" x=\"134.5\" y=\"-19.8\">dense_1: Dense</text>\n",
       "<polyline fill=\"none\" points=\"185.5,-0.5 185.5,-46.5 \" stroke=\"black\"/>\n",
       "<text font-family=\"Times,serif\" font-size=\"14.00\" text-anchor=\"middle\" x=\"213\" y=\"-31.3\">input:</text>\n",
       "<polyline fill=\"none\" points=\"185.5,-23.5 240.5,-23.5 \" stroke=\"black\"/>\n",
       "<text font-family=\"Times,serif\" font-size=\"14.00\" text-anchor=\"middle\" x=\"213\" y=\"-8.3\">output:</text>\n",
       "<polyline fill=\"none\" points=\"240.5,-0.5 240.5,-46.5 \" stroke=\"black\"/>\n",
       "<text font-family=\"Times,serif\" font-size=\"14.00\" text-anchor=\"middle\" x=\"292.5\" y=\"-31.3\">(None, 64, 256)</text>\n",
       "<polyline fill=\"none\" points=\"240.5,-23.5 344.5,-23.5 \" stroke=\"black\"/>\n",
       "<text font-family=\"Times,serif\" font-size=\"14.00\" text-anchor=\"middle\" x=\"292.5\" y=\"-8.3\">(None, 64, 1)</text>\n",
       "</g>\n",
       "<!-- 140119482735304&#45;&gt;140119481664960 -->\n",
       "<g class=\"edge\" id=\"edge3\"><title>140119482735304-&gt;140119481664960</title>\n",
       "<path d=\"M214,-83.3664C214,-75.1516 214,-65.6579 214,-56.7252\" fill=\"none\" stroke=\"black\"/>\n",
       "<polygon fill=\"black\" points=\"217.5,-56.6068 214,-46.6068 210.5,-56.6069 217.5,-56.6068\" stroke=\"black\"/>\n",
       "</g>\n",
       "</g>\n",
       "</svg>"
      ],
      "text/plain": [
       "<IPython.core.display.SVG object>"
      ]
     },
     "execution_count": 10,
     "metadata": {},
     "output_type": "execute_result"
    }
   ],
   "source": [
    "def r2(y_true, y_pred):\n",
    "    SS_res =  K.sum(K.square( y_true-y_pred )) \n",
    "    SS_tot = K.sum(K.square( y_true - K.mean(y_true) ) ) \n",
    "    return ( 1 - SS_res/(SS_tot + K.epsilon()) )\n",
    "\n",
    "def create_model(l1=64, l2=64):\n",
    "    np.random.seed(0)\n",
    "    model = Sequential()\n",
    "    model.add(Bidirectional(LSTM(l1, return_sequences=True), input_shape=(PREDICT_SIZE, 7)))\n",
    "    model.add(Bidirectional(LSTM(l1, return_sequences=True)))\n",
    "    model.add(Dense(1))\n",
    "    model.compile(loss='mean_squared_error', optimizer='adam', metrics=['accuracy', r2])\n",
    "    return model\n",
    "\n",
    "model = create_model(128, 128)\n",
    "SVG(model_to_dot(model, show_shapes=True).create(prog='dot', format='svg'))"
   ]
  },
  {
   "cell_type": "markdown",
   "metadata": {
    "deletable": true,
    "editable": true
   },
   "source": [
    "# Training"
   ]
  },
  {
   "cell_type": "code",
   "execution_count": null,
   "metadata": {
    "collapsed": false,
    "deletable": true,
    "editable": true
   },
   "outputs": [
    {
     "name": "stdout",
     "output_type": "stream",
     "text": [
      "Train on 34300 samples, validate on 8575 samples\n",
      "Epoch 1/10\n",
      "68s - loss: 0.0162 - acc: 0.0000e+00 - r2: -5.7514e-01 - val_loss: 0.0120 - val_acc: 1.1662e-04 - val_r2: -2.3512e-01\n",
      "Epoch 2/10\n",
      "65s - loss: 0.0104 - acc: 0.0000e+00 - r2: -2.6228e-03 - val_loss: 0.0117 - val_acc: 1.1662e-04 - val_r2: -2.9702e-01\n",
      "Epoch 3/10\n",
      "65s - loss: 0.0102 - acc: 0.0000e+00 - r2: 0.0157 - val_loss: 0.0115 - val_acc: 1.1662e-04 - val_r2: -2.7930e-01\n",
      "Epoch 4/10\n",
      "66s - loss: 0.0101 - acc: 0.0000e+00 - r2: 0.0242 - val_loss: 0.0114 - val_acc: 1.1662e-04 - val_r2: -2.9177e-01\n",
      "Epoch 5/10\n",
      "65s - loss: 0.0100 - acc: 0.0000e+00 - r2: 0.0319 - val_loss: 0.0115 - val_acc: 1.1662e-04 - val_r2: -3.8397e-01\n",
      "Epoch 6/10\n"
     ]
    }
   ],
   "source": [
    "model = create_model(l1=128, l2=128)\n",
    "\n",
    "history = History()\n",
    "model.fit(train_x, train_y, epochs=10, batch_size=BATCH_SIZE, verbose=2, \n",
    "          validation_data=(test_x, test_y), callbacks=[history])"
   ]
  },
  {
   "cell_type": "code",
   "execution_count": null,
   "metadata": {
    "collapsed": false,
    "deletable": true,
    "editable": true
   },
   "outputs": [],
   "source": [
    "%time eval_results = model.evaluate(test_x, test_y, batch_size=BATCH_SIZE, verbose=2)\n",
    "\n",
    "for k, v in zip(model.metrics_names, eval_results):\n",
    "    print(f'{k}: {v}')"
   ]
  },
  {
   "cell_type": "code",
   "execution_count": null,
   "metadata": {
    "collapsed": false,
    "deletable": true,
    "editable": true
   },
   "outputs": [],
   "source": [
    "vis_evaluate(model, test_x, test_y)"
   ]
  }
 ],
 "metadata": {
  "kernelspec": {
   "display_name": "Python 3",
   "language": "python",
   "name": "python3"
  },
  "language_info": {
   "codemirror_mode": {
    "name": "ipython",
    "version": 3
   },
   "file_extension": ".py",
   "mimetype": "text/x-python",
   "name": "python",
   "nbconvert_exporter": "python",
   "pygments_lexer": "ipython3",
   "version": "3.6.1"
  }
 },
 "nbformat": 4,
 "nbformat_minor": 2
}
