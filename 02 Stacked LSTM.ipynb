{
 "cells": [
  {
   "cell_type": "code",
   "execution_count": 3,
   "metadata": {
    "collapsed": false,
    "deletable": true,
    "editable": true
   },
   "outputs": [
    {
     "name": "stdout",
     "output_type": "stream",
     "text": [
      "Populating the interactive namespace from numpy and matplotlib\n"
     ]
    }
   ],
   "source": [
    "%pylab inline\n",
    "# %env CUDA_VISIBLE_DEVICES=\"\"\n",
    "\n",
    "import numpy as np\n",
    "import pandas as pd\n",
    "from sklearn.model_selection import train_test_split\n",
    "from sklearn.preprocessing import MinMaxScaler\n",
    "from sklearn.metrics import r2_score\n",
    "\n",
    "from keras import backend as K\n",
    "from keras.models import Sequential\n",
    "from keras.layers import LSTM, Bidirectional, Dense\n",
    "from keras.layers import BatchNormalization, Dropout\n",
    "from keras.layers import Activation\n",
    "from keras.callbacks import History, TensorBoard\n",
    "\n",
    "from tools import load_household_power_consumption\n",
    "from tools import to_timeseries\n",
    "from tools import split_x_y, split_train_test\n",
    "from tools import vis_evaluate\n",
    "\n",
    "from keras.utils.vis_utils import plot_model\n",
    "from keras.utils.vis_utils import model_to_dot\n",
    "from IPython.display import display\n",
    "from IPython.display import SVG, Image"
   ]
  },
  {
   "cell_type": "markdown",
   "metadata": {
    "deletable": true,
    "editable": true
   },
   "source": [
    "# Configuration"
   ]
  },
  {
   "cell_type": "code",
   "execution_count": 4,
   "metadata": {
    "collapsed": true,
    "deletable": true,
    "editable": true
   },
   "outputs": [],
   "source": [
    "PREDICT_SIZE = 64\n",
    "BATCH_SIZE = 2048"
   ]
  },
  {
   "cell_type": "markdown",
   "metadata": {
    "deletable": true,
    "editable": true
   },
   "source": [
    "# Data"
   ]
  },
  {
   "cell_type": "code",
   "execution_count": 39,
   "metadata": {
    "collapsed": false,
    "deletable": true,
    "editable": true
   },
   "outputs": [
    {
     "name": "stderr",
     "output_type": "stream",
     "text": [
      "2017-08-22 17:36:11,148 [hybrid-lstm.tool | INFO] Load existing dataset\n"
     ]
    },
    {
     "name": "stdout",
     "output_type": "stream",
     "text": [
      "data_x: (43642, 55)\n",
      "data_y: (43642, 1)\n",
      "train_x: (34812, 64, 55)\n",
      "train_y: (34812, 64, 1)\n",
      "test_x: (8703, 64, 55)\n",
      "test_y: (8703, 64, 1)\n"
     ]
    }
   ],
   "source": [
    "dataset = load_household_power_consumption()\n",
    "\n",
    "# Add a half hour one-hot vector\n",
    "def foo(x):\n",
    "    h = x.hour\n",
    "    if x.minute >= 30:\n",
    "        h += 0.5\n",
    "    return h\n",
    "\n",
    "dataset['hour'] = dataset.index.map(foo)\n",
    "dataset = pd.get_dummies(dataset, prefix='h', columns=['hour'])\n",
    "\n",
    "# # Add Hour one-hot vector\n",
    "# dataset['hour'] = dataset.index.hour\n",
    "# dataset = pd.get_dummies(dataset, columns=['hour'], prefix='h')\n",
    "\n",
    "data_x, data_y = split_x_y(dataset)\n",
    "\n",
    "data_x = MinMaxScaler().fit_transform(data_x)\n",
    "data_y = MinMaxScaler().fit_transform(data_y)\n",
    "\n",
    "train_x, train_y, test_x, test_y = split_train_test(to_timeseries(data_x[:-PREDICT_SIZE], t=PREDICT_SIZE), \n",
    "                                                    to_timeseries(data_y[PREDICT_SIZE:], t=PREDICT_SIZE), \n",
    "                                                    train_ratio=0.8)\n",
    "\n",
    "print('data_x:', data_x.shape)\n",
    "print('data_y:', data_y.shape)\n",
    "print('train_x:', train_x.shape)\n",
    "print('train_y:', train_y.shape)\n",
    "print('test_x:', test_x.shape)\n",
    "print('test_y:', test_y.shape)"
   ]
  },
  {
   "cell_type": "markdown",
   "metadata": {
    "deletable": true,
    "editable": true
   },
   "source": [
    "# Models"
   ]
  },
  {
   "cell_type": "code",
   "execution_count": 40,
   "metadata": {
    "collapsed": false,
    "deletable": true,
    "editable": true
   },
   "outputs": [
    {
     "data": {
      "image/svg+xml": [
       "<svg height=\"304pt\" viewBox=\"0.00 0.00 449.00 304.00\" width=\"449pt\" xmlns=\"http://www.w3.org/2000/svg\" xmlns:xlink=\"http://www.w3.org/1999/xlink\">\n",
       "<g class=\"graph\" id=\"graph0\" transform=\"scale(1 1) rotate(0) translate(4 300)\">\n",
       "<title>G</title>\n",
       "<polygon fill=\"white\" points=\"-4,4 -4,-300 445,-300 445,4 -4,4\" stroke=\"none\"/>\n",
       "<!-- 140204241905088 -->\n",
       "<g class=\"node\" id=\"node1\"><title>140204241905088</title>\n",
       "<polygon fill=\"none\" points=\"48,-249.5 48,-295.5 393,-295.5 393,-249.5 48,-249.5\" stroke=\"black\"/>\n",
       "<text font-family=\"Times,serif\" font-size=\"14.00\" text-anchor=\"middle\" x=\"148\" y=\"-268.8\">bidirectional_9_input: InputLayer</text>\n",
       "<polyline fill=\"none\" points=\"248,-249.5 248,-295.5 \" stroke=\"black\"/>\n",
       "<text font-family=\"Times,serif\" font-size=\"14.00\" text-anchor=\"middle\" x=\"275.5\" y=\"-280.3\">input:</text>\n",
       "<polyline fill=\"none\" points=\"248,-272.5 303,-272.5 \" stroke=\"black\"/>\n",
       "<text font-family=\"Times,serif\" font-size=\"14.00\" text-anchor=\"middle\" x=\"275.5\" y=\"-257.3\">output:</text>\n",
       "<polyline fill=\"none\" points=\"303,-249.5 303,-295.5 \" stroke=\"black\"/>\n",
       "<text font-family=\"Times,serif\" font-size=\"14.00\" text-anchor=\"middle\" x=\"348\" y=\"-280.3\">(None, 64, 7)</text>\n",
       "<polyline fill=\"none\" points=\"303,-272.5 393,-272.5 \" stroke=\"black\"/>\n",
       "<text font-family=\"Times,serif\" font-size=\"14.00\" text-anchor=\"middle\" x=\"348\" y=\"-257.3\">(None, 64, 7)</text>\n",
       "</g>\n",
       "<!-- 140204241904360 -->\n",
       "<g class=\"node\" id=\"node2\"><title>140204241904360</title>\n",
       "<polygon fill=\"none\" points=\"6.5,-166.5 6.5,-212.5 434.5,-212.5 434.5,-166.5 6.5,-166.5\" stroke=\"black\"/>\n",
       "<text font-family=\"Times,serif\" font-size=\"14.00\" text-anchor=\"middle\" x=\"141\" y=\"-185.8\">bidirectional_9(lstm_9): Bidirectional(LSTM)</text>\n",
       "<polyline fill=\"none\" points=\"275.5,-166.5 275.5,-212.5 \" stroke=\"black\"/>\n",
       "<text font-family=\"Times,serif\" font-size=\"14.00\" text-anchor=\"middle\" x=\"303\" y=\"-197.3\">input:</text>\n",
       "<polyline fill=\"none\" points=\"275.5,-189.5 330.5,-189.5 \" stroke=\"black\"/>\n",
       "<text font-family=\"Times,serif\" font-size=\"14.00\" text-anchor=\"middle\" x=\"303\" y=\"-174.3\">output:</text>\n",
       "<polyline fill=\"none\" points=\"330.5,-166.5 330.5,-212.5 \" stroke=\"black\"/>\n",
       "<text font-family=\"Times,serif\" font-size=\"14.00\" text-anchor=\"middle\" x=\"382.5\" y=\"-197.3\">(None, 64, 7)</text>\n",
       "<polyline fill=\"none\" points=\"330.5,-189.5 434.5,-189.5 \" stroke=\"black\"/>\n",
       "<text font-family=\"Times,serif\" font-size=\"14.00\" text-anchor=\"middle\" x=\"382.5\" y=\"-174.3\">(None, 64, 256)</text>\n",
       "</g>\n",
       "<!-- 140204241905088&#45;&gt;140204241904360 -->\n",
       "<g class=\"edge\" id=\"edge1\"><title>140204241905088-&gt;140204241904360</title>\n",
       "<path d=\"M220.5,-249.366C220.5,-241.152 220.5,-231.658 220.5,-222.725\" fill=\"none\" stroke=\"black\"/>\n",
       "<polygon fill=\"black\" points=\"224,-222.607 220.5,-212.607 217,-222.607 224,-222.607\" stroke=\"black\"/>\n",
       "</g>\n",
       "<!-- 140204225372568 -->\n",
       "<g class=\"node\" id=\"node3\"><title>140204225372568</title>\n",
       "<polygon fill=\"none\" points=\"0,-83.5 0,-129.5 441,-129.5 441,-83.5 0,-83.5\" stroke=\"black\"/>\n",
       "<text font-family=\"Times,serif\" font-size=\"14.00\" text-anchor=\"middle\" x=\"141\" y=\"-102.8\">bidirectional_10(lstm_10): Bidirectional(LSTM)</text>\n",
       "<polyline fill=\"none\" points=\"282,-83.5 282,-129.5 \" stroke=\"black\"/>\n",
       "<text font-family=\"Times,serif\" font-size=\"14.00\" text-anchor=\"middle\" x=\"309.5\" y=\"-114.3\">input:</text>\n",
       "<polyline fill=\"none\" points=\"282,-106.5 337,-106.5 \" stroke=\"black\"/>\n",
       "<text font-family=\"Times,serif\" font-size=\"14.00\" text-anchor=\"middle\" x=\"309.5\" y=\"-91.3\">output:</text>\n",
       "<polyline fill=\"none\" points=\"337,-83.5 337,-129.5 \" stroke=\"black\"/>\n",
       "<text font-family=\"Times,serif\" font-size=\"14.00\" text-anchor=\"middle\" x=\"389\" y=\"-114.3\">(None, 64, 256)</text>\n",
       "<polyline fill=\"none\" points=\"337,-106.5 441,-106.5 \" stroke=\"black\"/>\n",
       "<text font-family=\"Times,serif\" font-size=\"14.00\" text-anchor=\"middle\" x=\"389\" y=\"-91.3\">(None, 64, 256)</text>\n",
       "</g>\n",
       "<!-- 140204241904360&#45;&gt;140204225372568 -->\n",
       "<g class=\"edge\" id=\"edge2\"><title>140204241904360-&gt;140204225372568</title>\n",
       "<path d=\"M220.5,-166.366C220.5,-158.152 220.5,-148.658 220.5,-139.725\" fill=\"none\" stroke=\"black\"/>\n",
       "<polygon fill=\"black\" points=\"224,-139.607 220.5,-129.607 217,-139.607 224,-139.607\" stroke=\"black\"/>\n",
       "</g>\n",
       "<!-- 140204225374864 -->\n",
       "<g class=\"node\" id=\"node4\"><title>140204225374864</title>\n",
       "<polygon fill=\"none\" points=\"90,-0.5 90,-46.5 351,-46.5 351,-0.5 90,-0.5\" stroke=\"black\"/>\n",
       "<text font-family=\"Times,serif\" font-size=\"14.00\" text-anchor=\"middle\" x=\"141\" y=\"-19.8\">dense_5: Dense</text>\n",
       "<polyline fill=\"none\" points=\"192,-0.5 192,-46.5 \" stroke=\"black\"/>\n",
       "<text font-family=\"Times,serif\" font-size=\"14.00\" text-anchor=\"middle\" x=\"219.5\" y=\"-31.3\">input:</text>\n",
       "<polyline fill=\"none\" points=\"192,-23.5 247,-23.5 \" stroke=\"black\"/>\n",
       "<text font-family=\"Times,serif\" font-size=\"14.00\" text-anchor=\"middle\" x=\"219.5\" y=\"-8.3\">output:</text>\n",
       "<polyline fill=\"none\" points=\"247,-0.5 247,-46.5 \" stroke=\"black\"/>\n",
       "<text font-family=\"Times,serif\" font-size=\"14.00\" text-anchor=\"middle\" x=\"299\" y=\"-31.3\">(None, 64, 256)</text>\n",
       "<polyline fill=\"none\" points=\"247,-23.5 351,-23.5 \" stroke=\"black\"/>\n",
       "<text font-family=\"Times,serif\" font-size=\"14.00\" text-anchor=\"middle\" x=\"299\" y=\"-8.3\">(None, 64, 1)</text>\n",
       "</g>\n",
       "<!-- 140204225372568&#45;&gt;140204225374864 -->\n",
       "<g class=\"edge\" id=\"edge3\"><title>140204225372568-&gt;140204225374864</title>\n",
       "<path d=\"M220.5,-83.3664C220.5,-75.1516 220.5,-65.6579 220.5,-56.7252\" fill=\"none\" stroke=\"black\"/>\n",
       "<polygon fill=\"black\" points=\"224,-56.6068 220.5,-46.6068 217,-56.6069 224,-56.6068\" stroke=\"black\"/>\n",
       "</g>\n",
       "</g>\n",
       "</svg>"
      ],
      "text/plain": [
       "<IPython.core.display.SVG object>"
      ]
     },
     "execution_count": 40,
     "metadata": {},
     "output_type": "execute_result"
    }
   ],
   "source": [
    "def r2(y_true, y_pred):\n",
    "    SS_res =  K.sum(K.square( y_true-y_pred )) \n",
    "    SS_tot = K.sum(K.square( y_true - K.mean(y_true) ) ) \n",
    "    return ( 1 - SS_res/(SS_tot + K.epsilon()) )\n",
    "\n",
    "def create_model(l1=64, l2=64, n_input=7):\n",
    "    np.random.seed(0)\n",
    "    model = Sequential()\n",
    "    model.add(Bidirectional(LSTM(l1, return_sequences=True), input_shape=(PREDICT_SIZE, n_input)))\n",
    "    model.add(Bidirectional(LSTM(l1, return_sequences=True)))\n",
    "    model.add(Dense(1))\n",
    "    model.compile(loss='mean_squared_error', optimizer='adam', metrics=['accuracy', r2])\n",
    "    return model\n",
    "\n",
    "model = create_model(128, 128)\n",
    "SVG(model_to_dot(model, show_shapes=True).create(prog='dot', format='svg'))"
   ]
  },
  {
   "cell_type": "markdown",
   "metadata": {
    "deletable": true,
    "editable": true
   },
   "source": [
    "# Training"
   ]
  },
  {
   "cell_type": "code",
   "execution_count": null,
   "metadata": {
    "collapsed": false
   },
   "outputs": [
    {
     "name": "stdout",
     "output_type": "stream",
     "text": [
      "Train on 34812 samples, validate on 8703 samples\n",
      "Epoch 1/50\n",
      "21s - loss: 0.0278 - acc: 2.6930e-06 - r2: -1.5685e+00 - val_loss: 0.0088 - val_acc: 1.1490e-04 - val_r2: -4.4647e-02\n",
      "Epoch 2/50\n",
      "19s - loss: 0.0085 - acc: 0.0000e+00 - r2: 0.2083 - val_loss: 0.0060 - val_acc: 1.1490e-04 - val_r2: 0.2836\n",
      "Epoch 3/50\n",
      "19s - loss: 0.0075 - acc: 0.0000e+00 - r2: 0.3018 - val_loss: 0.0056 - val_acc: 1.1490e-04 - val_r2: 0.3078\n",
      "Epoch 4/50\n",
      "19s - loss: 0.0072 - acc: 0.0000e+00 - r2: 0.3274 - val_loss: 0.0056 - val_acc: 1.1490e-04 - val_r2: 0.3080\n",
      "Epoch 5/50\n",
      "19s - loss: 0.0071 - acc: 0.0000e+00 - r2: 0.3448 - val_loss: 0.0056 - val_acc: 1.1490e-04 - val_r2: 0.3033\n",
      "Epoch 6/50\n",
      "19s - loss: 0.0069 - acc: 0.0000e+00 - r2: 0.3624 - val_loss: 0.0056 - val_acc: 1.1490e-04 - val_r2: 0.2893\n",
      "Epoch 7/50\n",
      "19s - loss: 0.0066 - acc: 0.0000e+00 - r2: 0.3830 - val_loss: 0.0055 - val_acc: 1.1490e-04 - val_r2: 0.3140\n",
      "Epoch 8/50\n",
      "19s - loss: 0.0064 - acc: 0.0000e+00 - r2: 0.4102 - val_loss: 0.0055 - val_acc: 1.1490e-04 - val_r2: 0.3094\n",
      "Epoch 9/50\n",
      "19s - loss: 0.0060 - acc: 0.0000e+00 - r2: 0.4415 - val_loss: 0.0057 - val_acc: 1.1490e-04 - val_r2: 0.2750\n",
      "Epoch 10/50\n"
     ]
    }
   ],
   "source": [
    "model = create_model(l1=256, l2=256, n_input=55)\n",
    "\n",
    "history = History()\n",
    "model.fit(train_x, train_y, epochs=50, batch_size=BATCH_SIZE, verbose=2, \n",
    "          validation_data=(test_x, test_y), callbacks=[history])"
   ]
  },
  {
   "cell_type": "code",
   "execution_count": 38,
   "metadata": {
    "collapsed": false
   },
   "outputs": [
    {
     "name": "stdout",
     "output_type": "stream",
     "text": [
      "Train on 34812 samples, validate on 8703 samples\n",
      "Epoch 1/50\n",
      "22s - loss: 0.0281 - acc: 2.6930e-06 - r2: -1.5992e+00 - val_loss: 0.0087 - val_acc: 1.1490e-04 - val_r2: -1.8350e-02\n",
      "Epoch 2/50\n",
      "19s - loss: 0.0086 - acc: 0.0000e+00 - r2: 0.1979 - val_loss: 0.0061 - val_acc: 1.1490e-04 - val_r2: 0.2719\n",
      "Epoch 3/50\n",
      "19s - loss: 0.0076 - acc: 0.0000e+00 - r2: 0.2907 - val_loss: 0.0057 - val_acc: 1.1490e-04 - val_r2: 0.3040\n",
      "Epoch 4/50\n",
      "19s - loss: 0.0074 - acc: 0.0000e+00 - r2: 0.3176 - val_loss: 0.0057 - val_acc: 1.1490e-04 - val_r2: 0.2952\n",
      "Epoch 5/50\n",
      "19s - loss: 0.0072 - acc: 0.0000e+00 - r2: 0.3356 - val_loss: 0.0056 - val_acc: 1.1490e-04 - val_r2: 0.2989\n",
      "Epoch 6/50\n",
      "19s - loss: 0.0070 - acc: 0.0000e+00 - r2: 0.3533 - val_loss: 0.0056 - val_acc: 1.1490e-04 - val_r2: 0.2894\n",
      "Epoch 7/50\n",
      "20s - loss: 0.0068 - acc: 0.0000e+00 - r2: 0.3725 - val_loss: 0.0056 - val_acc: 1.1490e-04 - val_r2: 0.3080\n",
      "Epoch 8/50\n",
      "19s - loss: 0.0065 - acc: 0.0000e+00 - r2: 0.3952 - val_loss: 0.0056 - val_acc: 1.1490e-04 - val_r2: 0.3084\n",
      "Epoch 9/50\n",
      "19s - loss: 0.0062 - acc: 0.0000e+00 - r2: 0.4243 - val_loss: 0.0057 - val_acc: 1.1490e-04 - val_r2: 0.2811\n",
      "Epoch 10/50\n",
      "19s - loss: 0.0058 - acc: 0.0000e+00 - r2: 0.4617 - val_loss: 0.0052 - val_acc: 1.1490e-04 - val_r2: 0.3579\n",
      "Epoch 11/50\n",
      "19s - loss: 0.0055 - acc: 0.0000e+00 - r2: 0.4915 - val_loss: 0.0054 - val_acc: 1.1490e-04 - val_r2: 0.3240\n",
      "Epoch 12/50\n",
      "19s - loss: 0.0052 - acc: 0.0000e+00 - r2: 0.5189 - val_loss: 0.0055 - val_acc: 1.1490e-04 - val_r2: 0.3247\n",
      "Epoch 13/50\n",
      "19s - loss: 0.0051 - acc: 0.0000e+00 - r2: 0.5310 - val_loss: 0.0049 - val_acc: 1.1490e-04 - val_r2: 0.4007\n",
      "Epoch 14/50\n",
      "19s - loss: 0.0050 - acc: 0.0000e+00 - r2: 0.5359 - val_loss: 0.0051 - val_acc: 1.1490e-04 - val_r2: 0.3634\n",
      "Epoch 15/50\n",
      "19s - loss: 0.0048 - acc: 0.0000e+00 - r2: 0.5573 - val_loss: 0.0051 - val_acc: 1.1490e-04 - val_r2: 0.3661\n",
      "Epoch 16/50\n",
      "19s - loss: 0.0046 - acc: 4.4884e-07 - r2: 0.5758 - val_loss: 0.0048 - val_acc: 1.1490e-04 - val_r2: 0.4076\n",
      "Epoch 17/50\n",
      "19s - loss: 0.0045 - acc: 1.3465e-06 - r2: 0.5864 - val_loss: 0.0049 - val_acc: 1.1490e-04 - val_r2: 0.3984\n",
      "Epoch 18/50\n",
      "19s - loss: 0.0044 - acc: 2.6930e-06 - r2: 0.5917 - val_loss: 0.0052 - val_acc: 1.1490e-04 - val_r2: 0.3313\n",
      "Epoch 19/50\n",
      "19s - loss: 0.0041 - acc: 4.4884e-06 - r2: 0.6176 - val_loss: 0.0050 - val_acc: 1.1490e-04 - val_r2: 0.3339\n",
      "Epoch 20/50\n",
      "19s - loss: 0.0039 - acc: 1.4812e-05 - r2: 0.6372 - val_loss: 0.0050 - val_acc: 1.1490e-04 - val_r2: 0.3609\n",
      "Epoch 21/50\n",
      "19s - loss: 0.0038 - acc: 2.1544e-05 - r2: 0.6516 - val_loss: 0.0052 - val_acc: 1.1490e-04 - val_r2: 0.3186\n",
      "Epoch 22/50\n",
      "20s - loss: 0.0037 - acc: 2.5135e-05 - r2: 0.6540 - val_loss: 0.0051 - val_acc: 1.1490e-04 - val_r2: 0.3554\n",
      "Epoch 23/50\n",
      "20s - loss: 0.0037 - acc: 2.4686e-05 - r2: 0.6591 - val_loss: 0.0050 - val_acc: 1.1490e-04 - val_r2: 0.3314\n",
      "Epoch 24/50\n",
      "19s - loss: 0.0034 - acc: 2.6930e-05 - r2: 0.6821 - val_loss: 0.0052 - val_acc: 1.1490e-04 - val_r2: 0.3119\n",
      "Epoch 25/50\n",
      "19s - loss: 0.0032 - acc: 2.7828e-05 - r2: 0.7003 - val_loss: 0.0054 - val_acc: 1.1490e-04 - val_r2: 0.2934\n",
      "Epoch 26/50\n",
      "19s - loss: 0.0031 - acc: 2.8726e-05 - r2: 0.7152 - val_loss: 0.0052 - val_acc: 1.1490e-04 - val_r2: 0.3059\n",
      "Epoch 27/50\n",
      "19s - loss: 0.0029 - acc: 2.8726e-05 - r2: 0.7276 - val_loss: 0.0053 - val_acc: 1.1490e-04 - val_r2: 0.3036\n",
      "Epoch 28/50\n",
      "19s - loss: 0.0028 - acc: 2.8726e-05 - r2: 0.7358 - val_loss: 0.0055 - val_acc: 1.1490e-04 - val_r2: 0.2760\n",
      "Epoch 29/50\n",
      "19s - loss: 0.0028 - acc: 2.8726e-05 - r2: 0.7445 - val_loss: 0.0055 - val_acc: 1.1490e-04 - val_r2: 0.2650\n",
      "Epoch 30/50\n",
      "19s - loss: 0.0027 - acc: 2.8726e-05 - r2: 0.7526 - val_loss: 0.0053 - val_acc: 1.1490e-04 - val_r2: 0.3131\n",
      "Epoch 31/50\n",
      "19s - loss: 0.0025 - acc: 2.8726e-05 - r2: 0.7636 - val_loss: 0.0056 - val_acc: 1.1490e-04 - val_r2: 0.2423\n",
      "Epoch 32/50\n",
      "19s - loss: 0.0025 - acc: 2.7379e-05 - r2: 0.7676 - val_loss: 0.0054 - val_acc: 1.1490e-04 - val_r2: 0.2950\n",
      "Epoch 33/50\n",
      "19s - loss: 0.0024 - acc: 2.8726e-05 - r2: 0.7744 - val_loss: 0.0055 - val_acc: 1.1490e-04 - val_r2: 0.2633\n",
      "Epoch 34/50\n",
      "19s - loss: 0.0023 - acc: 2.8726e-05 - r2: 0.7823 - val_loss: 0.0054 - val_acc: 1.1490e-04 - val_r2: 0.2866\n",
      "Epoch 35/50\n",
      "19s - loss: 0.0023 - acc: 2.8726e-05 - r2: 0.7905 - val_loss: 0.0059 - val_acc: 1.1490e-04 - val_r2: 0.1999\n",
      "Epoch 36/50\n",
      "19s - loss: 0.0022 - acc: 2.8726e-05 - r2: 0.7959 - val_loss: 0.0062 - val_acc: 1.1490e-04 - val_r2: 0.1270\n",
      "Epoch 37/50\n",
      "19s - loss: 0.0021 - acc: 2.8726e-05 - r2: 0.8029 - val_loss: 0.0057 - val_acc: 1.1490e-04 - val_r2: 0.2327\n",
      "Epoch 38/50\n",
      "19s - loss: 0.0020 - acc: 2.8726e-05 - r2: 0.8104 - val_loss: 0.0058 - val_acc: 1.1490e-04 - val_r2: 0.2072\n",
      "Epoch 39/50\n",
      "19s - loss: 0.0019 - acc: 2.8726e-05 - r2: 0.8253 - val_loss: 0.0058 - val_acc: 1.1490e-04 - val_r2: 0.1977\n",
      "Epoch 40/50\n",
      "19s - loss: 0.0019 - acc: 2.8726e-05 - r2: 0.8280 - val_loss: 0.0060 - val_acc: 1.1490e-04 - val_r2: 0.1604\n",
      "Epoch 41/50\n",
      "19s - loss: 0.0018 - acc: 2.8726e-05 - r2: 0.8296 - val_loss: 0.0059 - val_acc: 1.1490e-04 - val_r2: 0.1475\n",
      "Epoch 42/50\n",
      "19s - loss: 0.0018 - acc: 2.8726e-05 - r2: 0.8299 - val_loss: 0.0059 - val_acc: 1.1490e-04 - val_r2: 0.1550\n",
      "Epoch 43/50\n",
      "19s - loss: 0.0020 - acc: 2.8726e-05 - r2: 0.8120 - val_loss: 0.0062 - val_acc: 1.1490e-04 - val_r2: 0.1053\n",
      "Epoch 44/50\n",
      "19s - loss: 0.0018 - acc: 2.8726e-05 - r2: 0.8308 - val_loss: 0.0060 - val_acc: 1.1490e-04 - val_r2: 0.1039\n",
      "Epoch 45/50\n",
      "19s - loss: 0.0016 - acc: 2.8726e-05 - r2: 0.8474 - val_loss: 0.0059 - val_acc: 1.1490e-04 - val_r2: 0.1249\n",
      "Epoch 46/50\n",
      "19s - loss: 0.0016 - acc: 2.8726e-05 - r2: 0.8557 - val_loss: 0.0063 - val_acc: 1.1490e-04 - val_r2: 0.0568\n",
      "Epoch 47/50\n",
      "19s - loss: 0.0015 - acc: 2.8726e-05 - r2: 0.8573 - val_loss: 0.0061 - val_acc: 1.1490e-04 - val_r2: 0.0937\n",
      "Epoch 48/50\n",
      "19s - loss: 0.0014 - acc: 2.8726e-05 - r2: 0.8661 - val_loss: 0.0063 - val_acc: 1.1490e-04 - val_r2: 0.0341\n",
      "Epoch 49/50\n",
      "19s - loss: 0.0014 - acc: 2.8726e-05 - r2: 0.8708 - val_loss: 0.0060 - val_acc: 1.1490e-04 - val_r2: 0.1055\n",
      "Epoch 50/50\n",
      "19s - loss: 0.0014 - acc: 2.8726e-05 - r2: 0.8666 - val_loss: 0.0064 - val_acc: 1.1490e-04 - val_r2: 0.0269\n"
     ]
    },
    {
     "data": {
      "text/plain": [
       "<keras.callbacks.History at 0x7f83ddd24e10>"
      ]
     },
     "execution_count": 38,
     "metadata": {},
     "output_type": "execute_result"
    }
   ],
   "source": [
    "model = create_model(l1=256, l2=256, n_input=31)\n",
    "\n",
    "history = History()\n",
    "model.fit(train_x, train_y, epochs=50, batch_size=BATCH_SIZE, verbose=2, \n",
    "          validation_data=(test_x, test_y), callbacks=[history])"
   ]
  },
  {
   "cell_type": "code",
   "execution_count": 8,
   "metadata": {
    "collapsed": false,
    "deletable": true,
    "editable": true
   },
   "outputs": [
    {
     "name": "stdout",
     "output_type": "stream",
     "text": [
      "Train on 34812 samples, validate on 8703 samples\n",
      "Epoch 1/50\n",
      "20s - loss: 0.0286 - acc: 2.2442e-06 - r2: -1.6433e+00 - val_loss: 0.0104 - val_acc: 1.1490e-04 - val_r2: -2.3278e-01\n",
      "Epoch 2/50\n",
      "19s - loss: 0.0096 - acc: 0.0000e+00 - r2: 0.1087 - val_loss: 0.0075 - val_acc: 1.1490e-04 - val_r2: 0.1260\n",
      "Epoch 3/50\n",
      "19s - loss: 0.0085 - acc: 0.0000e+00 - r2: 0.2134 - val_loss: 0.0074 - val_acc: 1.1490e-04 - val_r2: 0.1211\n",
      "Epoch 4/50\n",
      "19s - loss: 0.0082 - acc: 0.0000e+00 - r2: 0.2422 - val_loss: 0.0073 - val_acc: 1.1490e-04 - val_r2: 0.1372\n",
      "Epoch 5/50\n",
      "19s - loss: 0.0080 - acc: 0.0000e+00 - r2: 0.2601 - val_loss: 0.0072 - val_acc: 1.1490e-04 - val_r2: 0.1414\n",
      "Epoch 6/50\n",
      "19s - loss: 0.0078 - acc: 0.0000e+00 - r2: 0.2771 - val_loss: 0.0072 - val_acc: 1.1490e-04 - val_r2: 0.1320\n",
      "Epoch 7/50\n",
      "19s - loss: 0.0076 - acc: 0.0000e+00 - r2: 0.2973 - val_loss: 0.0070 - val_acc: 1.1490e-04 - val_r2: 0.1733\n",
      "Epoch 8/50\n",
      "19s - loss: 0.0072 - acc: 0.0000e+00 - r2: 0.3311 - val_loss: 0.0066 - val_acc: 1.1490e-04 - val_r2: 0.2157\n",
      "Epoch 9/50\n",
      "19s - loss: 0.0068 - acc: 0.0000e+00 - r2: 0.3662 - val_loss: 0.0062 - val_acc: 1.1490e-04 - val_r2: 0.2694\n",
      "Epoch 10/50\n",
      "19s - loss: 0.0068 - acc: 0.0000e+00 - r2: 0.3651 - val_loss: 0.0062 - val_acc: 1.1490e-04 - val_r2: 0.2609\n",
      "Epoch 11/50\n",
      "19s - loss: 0.0067 - acc: 0.0000e+00 - r2: 0.3808 - val_loss: 0.0060 - val_acc: 1.1490e-04 - val_r2: 0.2937\n",
      "Epoch 12/50\n",
      "19s - loss: 0.0065 - acc: 0.0000e+00 - r2: 0.3943 - val_loss: 0.0061 - val_acc: 1.1490e-04 - val_r2: 0.2630\n",
      "Epoch 13/50\n",
      "19s - loss: 0.0067 - acc: 0.0000e+00 - r2: 0.3776 - val_loss: 0.0065 - val_acc: 1.1490e-04 - val_r2: 0.1965\n",
      "Epoch 14/50\n",
      "19s - loss: 0.0065 - acc: 0.0000e+00 - r2: 0.3971 - val_loss: 0.0058 - val_acc: 1.1490e-04 - val_r2: 0.3100\n",
      "Epoch 15/50\n",
      "19s - loss: 0.0063 - acc: 0.0000e+00 - r2: 0.4138 - val_loss: 0.0058 - val_acc: 1.1490e-04 - val_r2: 0.3020\n",
      "Epoch 16/50\n",
      "19s - loss: 0.0063 - acc: 0.0000e+00 - r2: 0.4109 - val_loss: 0.0057 - val_acc: 1.1490e-04 - val_r2: 0.3265\n",
      "Epoch 17/50\n",
      "19s - loss: 0.0063 - acc: 0.0000e+00 - r2: 0.4184 - val_loss: 0.0057 - val_acc: 1.1490e-04 - val_r2: 0.3168\n",
      "Epoch 18/50\n",
      "19s - loss: 0.0062 - acc: 0.0000e+00 - r2: 0.4206 - val_loss: 0.0058 - val_acc: 1.1490e-04 - val_r2: 0.3172\n",
      "Epoch 19/50\n",
      "19s - loss: 0.0061 - acc: 0.0000e+00 - r2: 0.4334 - val_loss: 0.0057 - val_acc: 1.1490e-04 - val_r2: 0.3035\n",
      "Epoch 20/50\n",
      "19s - loss: 0.0061 - acc: 0.0000e+00 - r2: 0.4329 - val_loss: 0.0059 - val_acc: 1.1490e-04 - val_r2: 0.2626\n",
      "Epoch 21/50\n",
      "19s - loss: 0.0060 - acc: 0.0000e+00 - r2: 0.4431 - val_loss: 0.0055 - val_acc: 1.1490e-04 - val_r2: 0.3462\n",
      "Epoch 22/50\n",
      "19s - loss: 0.0058 - acc: 0.0000e+00 - r2: 0.4596 - val_loss: 0.0056 - val_acc: 1.1490e-04 - val_r2: 0.3145\n",
      "Epoch 23/50\n",
      "19s - loss: 0.0061 - acc: 0.0000e+00 - r2: 0.4301 - val_loss: 0.0056 - val_acc: 1.1490e-04 - val_r2: 0.3291\n",
      "Epoch 24/50\n",
      "19s - loss: 0.0058 - acc: 0.0000e+00 - r2: 0.4606 - val_loss: 0.0055 - val_acc: 1.1490e-04 - val_r2: 0.3471\n",
      "Epoch 25/50\n",
      "19s - loss: 0.0057 - acc: 0.0000e+00 - r2: 0.4734 - val_loss: 0.0055 - val_acc: 1.1490e-04 - val_r2: 0.3298\n",
      "Epoch 26/50\n",
      "19s - loss: 0.0057 - acc: 0.0000e+00 - r2: 0.4728 - val_loss: 0.0054 - val_acc: 1.1490e-04 - val_r2: 0.3528\n",
      "Epoch 27/50\n",
      "19s - loss: 0.0057 - acc: 0.0000e+00 - r2: 0.4760 - val_loss: 0.0061 - val_acc: 1.1490e-04 - val_r2: 0.2589\n",
      "Epoch 28/50\n",
      "19s - loss: 0.0062 - acc: 0.0000e+00 - r2: 0.4238 - val_loss: 0.0058 - val_acc: 1.1490e-04 - val_r2: 0.3190\n",
      "Epoch 29/50\n",
      "19s - loss: 0.0057 - acc: 4.4884e-07 - r2: 0.4676 - val_loss: 0.0055 - val_acc: 1.1490e-04 - val_r2: 0.3489\n",
      "Epoch 30/50\n",
      "19s - loss: 0.0057 - acc: 4.4884e-07 - r2: 0.4729 - val_loss: 0.0056 - val_acc: 1.1490e-04 - val_r2: 0.3258\n",
      "Epoch 31/50\n",
      "19s - loss: 0.0055 - acc: 8.9768e-07 - r2: 0.4927 - val_loss: 0.0054 - val_acc: 1.1490e-04 - val_r2: 0.3459\n",
      "Epoch 32/50\n",
      "19s - loss: 0.0055 - acc: 8.9768e-07 - r2: 0.4850 - val_loss: 0.0060 - val_acc: 1.1490e-04 - val_r2: 0.2959\n",
      "Epoch 33/50\n",
      "19s - loss: 0.0057 - acc: 4.4884e-07 - r2: 0.4735 - val_loss: 0.0055 - val_acc: 1.1490e-04 - val_r2: 0.3446\n",
      "Epoch 34/50\n",
      "19s - loss: 0.0053 - acc: 8.9768e-07 - r2: 0.5082 - val_loss: 0.0057 - val_acc: 1.1490e-04 - val_r2: 0.3036\n",
      "Epoch 35/50\n",
      "19s - loss: 0.0052 - acc: 1.7954e-06 - r2: 0.5135 - val_loss: 0.0056 - val_acc: 1.1490e-04 - val_r2: 0.3255\n",
      "Epoch 36/50\n",
      "19s - loss: 0.0052 - acc: 1.7954e-06 - r2: 0.5214 - val_loss: 0.0059 - val_acc: 1.1490e-04 - val_r2: 0.2694\n",
      "Epoch 37/50\n",
      "19s - loss: 0.0052 - acc: 1.3465e-06 - r2: 0.5172 - val_loss: 0.0057 - val_acc: 1.1490e-04 - val_r2: 0.3322\n",
      "Epoch 38/50\n",
      "19s - loss: 0.0052 - acc: 1.3465e-06 - r2: 0.5212 - val_loss: 0.0056 - val_acc: 1.1490e-04 - val_r2: 0.3285\n",
      "Epoch 39/50\n",
      "19s - loss: 0.0050 - acc: 2.2442e-06 - r2: 0.5343 - val_loss: 0.0054 - val_acc: 1.1490e-04 - val_r2: 0.3601\n",
      "Epoch 40/50\n",
      "19s - loss: 0.0050 - acc: 2.6930e-06 - r2: 0.5346 - val_loss: 0.0063 - val_acc: 1.1490e-04 - val_r2: 0.2067\n",
      "Epoch 41/50\n",
      "19s - loss: 0.0050 - acc: 1.7954e-06 - r2: 0.5347 - val_loss: 0.0059 - val_acc: 1.1490e-04 - val_r2: 0.3002\n",
      "Epoch 42/50\n",
      "19s - loss: 0.0051 - acc: 1.7954e-06 - r2: 0.5280 - val_loss: 0.0057 - val_acc: 1.1490e-04 - val_r2: 0.3165\n",
      "Epoch 43/50\n",
      "19s - loss: 0.0049 - acc: 1.7954e-06 - r2: 0.5453 - val_loss: 0.0060 - val_acc: 1.1490e-04 - val_r2: 0.2612\n",
      "Epoch 44/50\n"
     ]
    },
    {
     "ename": "KeyboardInterrupt",
     "evalue": "",
     "output_type": "error",
     "traceback": [
      "\u001b[0;31m---------------------------------------------------------------------------\u001b[0m",
      "\u001b[0;31mKeyboardInterrupt\u001b[0m                         Traceback (most recent call last)",
      "\u001b[0;32m<ipython-input-8-ea883aacdbc3>\u001b[0m in \u001b[0;36m<module>\u001b[0;34m()\u001b[0m\n\u001b[1;32m      3\u001b[0m \u001b[0mhistory\u001b[0m \u001b[0;34m=\u001b[0m \u001b[0mHistory\u001b[0m\u001b[0;34m(\u001b[0m\u001b[0;34m)\u001b[0m\u001b[0;34m\u001b[0m\u001b[0m\n\u001b[1;32m      4\u001b[0m model.fit(train_x, train_y, epochs=50, batch_size=BATCH_SIZE, verbose=2, \n\u001b[0;32m----> 5\u001b[0;31m           validation_data=(test_x, test_y), callbacks=[history])\n\u001b[0m",
      "\u001b[0;32m/usr/local/lib/python3.6/site-packages/keras/models.py\u001b[0m in \u001b[0;36mfit\u001b[0;34m(self, x, y, batch_size, epochs, verbose, callbacks, validation_split, validation_data, shuffle, class_weight, sample_weight, initial_epoch, **kwargs)\u001b[0m\n\u001b[1;32m    865\u001b[0m                               \u001b[0mclass_weight\u001b[0m\u001b[0;34m=\u001b[0m\u001b[0mclass_weight\u001b[0m\u001b[0;34m,\u001b[0m\u001b[0;34m\u001b[0m\u001b[0m\n\u001b[1;32m    866\u001b[0m                               \u001b[0msample_weight\u001b[0m\u001b[0;34m=\u001b[0m\u001b[0msample_weight\u001b[0m\u001b[0;34m,\u001b[0m\u001b[0;34m\u001b[0m\u001b[0m\n\u001b[0;32m--> 867\u001b[0;31m                               initial_epoch=initial_epoch)\n\u001b[0m\u001b[1;32m    868\u001b[0m \u001b[0;34m\u001b[0m\u001b[0m\n\u001b[1;32m    869\u001b[0m     def evaluate(self, x, y, batch_size=32, verbose=1,\n",
      "\u001b[0;32m/usr/local/lib/python3.6/site-packages/keras/engine/training.py\u001b[0m in \u001b[0;36mfit\u001b[0;34m(self, x, y, batch_size, epochs, verbose, callbacks, validation_split, validation_data, shuffle, class_weight, sample_weight, initial_epoch, steps_per_epoch, validation_steps, **kwargs)\u001b[0m\n\u001b[1;32m   1593\u001b[0m                               \u001b[0minitial_epoch\u001b[0m\u001b[0;34m=\u001b[0m\u001b[0minitial_epoch\u001b[0m\u001b[0;34m,\u001b[0m\u001b[0;34m\u001b[0m\u001b[0m\n\u001b[1;32m   1594\u001b[0m                               \u001b[0msteps_per_epoch\u001b[0m\u001b[0;34m=\u001b[0m\u001b[0msteps_per_epoch\u001b[0m\u001b[0;34m,\u001b[0m\u001b[0;34m\u001b[0m\u001b[0m\n\u001b[0;32m-> 1595\u001b[0;31m                               validation_steps=validation_steps)\n\u001b[0m\u001b[1;32m   1596\u001b[0m \u001b[0;34m\u001b[0m\u001b[0m\n\u001b[1;32m   1597\u001b[0m     def evaluate(self, x, y,\n",
      "\u001b[0;32m/usr/local/lib/python3.6/site-packages/keras/engine/training.py\u001b[0m in \u001b[0;36m_fit_loop\u001b[0;34m(self, f, ins, out_labels, batch_size, epochs, verbose, callbacks, val_f, val_ins, shuffle, callback_metrics, initial_epoch, steps_per_epoch, validation_steps)\u001b[0m\n\u001b[1;32m   1180\u001b[0m                     \u001b[0mbatch_logs\u001b[0m\u001b[0;34m[\u001b[0m\u001b[0;34m'size'\u001b[0m\u001b[0;34m]\u001b[0m \u001b[0;34m=\u001b[0m \u001b[0mlen\u001b[0m\u001b[0;34m(\u001b[0m\u001b[0mbatch_ids\u001b[0m\u001b[0;34m)\u001b[0m\u001b[0;34m\u001b[0m\u001b[0m\n\u001b[1;32m   1181\u001b[0m                     \u001b[0mcallbacks\u001b[0m\u001b[0;34m.\u001b[0m\u001b[0mon_batch_begin\u001b[0m\u001b[0;34m(\u001b[0m\u001b[0mbatch_index\u001b[0m\u001b[0;34m,\u001b[0m \u001b[0mbatch_logs\u001b[0m\u001b[0;34m)\u001b[0m\u001b[0;34m\u001b[0m\u001b[0m\n\u001b[0;32m-> 1182\u001b[0;31m                     \u001b[0mouts\u001b[0m \u001b[0;34m=\u001b[0m \u001b[0mf\u001b[0m\u001b[0;34m(\u001b[0m\u001b[0mins_batch\u001b[0m\u001b[0;34m)\u001b[0m\u001b[0;34m\u001b[0m\u001b[0m\n\u001b[0m\u001b[1;32m   1183\u001b[0m                     \u001b[0;32mif\u001b[0m \u001b[0;32mnot\u001b[0m \u001b[0misinstance\u001b[0m\u001b[0;34m(\u001b[0m\u001b[0mouts\u001b[0m\u001b[0;34m,\u001b[0m \u001b[0mlist\u001b[0m\u001b[0;34m)\u001b[0m\u001b[0;34m:\u001b[0m\u001b[0;34m\u001b[0m\u001b[0m\n\u001b[1;32m   1184\u001b[0m                         \u001b[0mouts\u001b[0m \u001b[0;34m=\u001b[0m \u001b[0;34m[\u001b[0m\u001b[0mouts\u001b[0m\u001b[0;34m]\u001b[0m\u001b[0;34m\u001b[0m\u001b[0m\n",
      "\u001b[0;32m/usr/local/lib/python3.6/site-packages/keras/backend/tensorflow_backend.py\u001b[0m in \u001b[0;36m__call__\u001b[0;34m(self, inputs)\u001b[0m\n\u001b[1;32m   2268\u001b[0m         updated = session.run(self.outputs + [self.updates_op],\n\u001b[1;32m   2269\u001b[0m                               \u001b[0mfeed_dict\u001b[0m\u001b[0;34m=\u001b[0m\u001b[0mfeed_dict\u001b[0m\u001b[0;34m,\u001b[0m\u001b[0;34m\u001b[0m\u001b[0m\n\u001b[0;32m-> 2270\u001b[0;31m                               **self.session_kwargs)\n\u001b[0m\u001b[1;32m   2271\u001b[0m         \u001b[0;32mreturn\u001b[0m \u001b[0mupdated\u001b[0m\u001b[0;34m[\u001b[0m\u001b[0;34m:\u001b[0m\u001b[0mlen\u001b[0m\u001b[0;34m(\u001b[0m\u001b[0mself\u001b[0m\u001b[0;34m.\u001b[0m\u001b[0moutputs\u001b[0m\u001b[0;34m)\u001b[0m\u001b[0;34m]\u001b[0m\u001b[0;34m\u001b[0m\u001b[0m\n\u001b[1;32m   2272\u001b[0m \u001b[0;34m\u001b[0m\u001b[0m\n",
      "\u001b[0;32m/usr/local/lib/python3.6/site-packages/tensorflow/python/client/session.py\u001b[0m in \u001b[0;36mrun\u001b[0;34m(self, fetches, feed_dict, options, run_metadata)\u001b[0m\n\u001b[1;32m    787\u001b[0m     \u001b[0;32mtry\u001b[0m\u001b[0;34m:\u001b[0m\u001b[0;34m\u001b[0m\u001b[0m\n\u001b[1;32m    788\u001b[0m       result = self._run(None, fetches, feed_dict, options_ptr,\n\u001b[0;32m--> 789\u001b[0;31m                          run_metadata_ptr)\n\u001b[0m\u001b[1;32m    790\u001b[0m       \u001b[0;32mif\u001b[0m \u001b[0mrun_metadata\u001b[0m\u001b[0;34m:\u001b[0m\u001b[0;34m\u001b[0m\u001b[0m\n\u001b[1;32m    791\u001b[0m         \u001b[0mproto_data\u001b[0m \u001b[0;34m=\u001b[0m \u001b[0mtf_session\u001b[0m\u001b[0;34m.\u001b[0m\u001b[0mTF_GetBuffer\u001b[0m\u001b[0;34m(\u001b[0m\u001b[0mrun_metadata_ptr\u001b[0m\u001b[0;34m)\u001b[0m\u001b[0;34m\u001b[0m\u001b[0m\n",
      "\u001b[0;32m/usr/local/lib/python3.6/site-packages/tensorflow/python/client/session.py\u001b[0m in \u001b[0;36m_run\u001b[0;34m(self, handle, fetches, feed_dict, options, run_metadata)\u001b[0m\n\u001b[1;32m    995\u001b[0m     \u001b[0;32mif\u001b[0m \u001b[0mfinal_fetches\u001b[0m \u001b[0;32mor\u001b[0m \u001b[0mfinal_targets\u001b[0m\u001b[0;34m:\u001b[0m\u001b[0;34m\u001b[0m\u001b[0m\n\u001b[1;32m    996\u001b[0m       results = self._do_run(handle, final_targets, final_fetches,\n\u001b[0;32m--> 997\u001b[0;31m                              feed_dict_string, options, run_metadata)\n\u001b[0m\u001b[1;32m    998\u001b[0m     \u001b[0;32melse\u001b[0m\u001b[0;34m:\u001b[0m\u001b[0;34m\u001b[0m\u001b[0m\n\u001b[1;32m    999\u001b[0m       \u001b[0mresults\u001b[0m \u001b[0;34m=\u001b[0m \u001b[0;34m[\u001b[0m\u001b[0;34m]\u001b[0m\u001b[0;34m\u001b[0m\u001b[0m\n",
      "\u001b[0;32m/usr/local/lib/python3.6/site-packages/tensorflow/python/client/session.py\u001b[0m in \u001b[0;36m_do_run\u001b[0;34m(self, handle, target_list, fetch_list, feed_dict, options, run_metadata)\u001b[0m\n\u001b[1;32m   1130\u001b[0m     \u001b[0;32mif\u001b[0m \u001b[0mhandle\u001b[0m \u001b[0;32mis\u001b[0m \u001b[0;32mNone\u001b[0m\u001b[0;34m:\u001b[0m\u001b[0;34m\u001b[0m\u001b[0m\n\u001b[1;32m   1131\u001b[0m       return self._do_call(_run_fn, self._session, feed_dict, fetch_list,\n\u001b[0;32m-> 1132\u001b[0;31m                            target_list, options, run_metadata)\n\u001b[0m\u001b[1;32m   1133\u001b[0m     \u001b[0;32melse\u001b[0m\u001b[0;34m:\u001b[0m\u001b[0;34m\u001b[0m\u001b[0m\n\u001b[1;32m   1134\u001b[0m       return self._do_call(_prun_fn, self._session, handle, feed_dict,\n",
      "\u001b[0;32m/usr/local/lib/python3.6/site-packages/tensorflow/python/client/session.py\u001b[0m in \u001b[0;36m_do_call\u001b[0;34m(self, fn, *args)\u001b[0m\n\u001b[1;32m   1137\u001b[0m   \u001b[0;32mdef\u001b[0m \u001b[0m_do_call\u001b[0m\u001b[0;34m(\u001b[0m\u001b[0mself\u001b[0m\u001b[0;34m,\u001b[0m \u001b[0mfn\u001b[0m\u001b[0;34m,\u001b[0m \u001b[0;34m*\u001b[0m\u001b[0margs\u001b[0m\u001b[0;34m)\u001b[0m\u001b[0;34m:\u001b[0m\u001b[0;34m\u001b[0m\u001b[0m\n\u001b[1;32m   1138\u001b[0m     \u001b[0;32mtry\u001b[0m\u001b[0;34m:\u001b[0m\u001b[0;34m\u001b[0m\u001b[0m\n\u001b[0;32m-> 1139\u001b[0;31m       \u001b[0;32mreturn\u001b[0m \u001b[0mfn\u001b[0m\u001b[0;34m(\u001b[0m\u001b[0;34m*\u001b[0m\u001b[0margs\u001b[0m\u001b[0;34m)\u001b[0m\u001b[0;34m\u001b[0m\u001b[0m\n\u001b[0m\u001b[1;32m   1140\u001b[0m     \u001b[0;32mexcept\u001b[0m \u001b[0merrors\u001b[0m\u001b[0;34m.\u001b[0m\u001b[0mOpError\u001b[0m \u001b[0;32mas\u001b[0m \u001b[0me\u001b[0m\u001b[0;34m:\u001b[0m\u001b[0;34m\u001b[0m\u001b[0m\n\u001b[1;32m   1141\u001b[0m       \u001b[0mmessage\u001b[0m \u001b[0;34m=\u001b[0m \u001b[0mcompat\u001b[0m\u001b[0;34m.\u001b[0m\u001b[0mas_text\u001b[0m\u001b[0;34m(\u001b[0m\u001b[0me\u001b[0m\u001b[0;34m.\u001b[0m\u001b[0mmessage\u001b[0m\u001b[0;34m)\u001b[0m\u001b[0;34m\u001b[0m\u001b[0m\n",
      "\u001b[0;32m/usr/local/lib/python3.6/site-packages/tensorflow/python/client/session.py\u001b[0m in \u001b[0;36m_run_fn\u001b[0;34m(session, feed_dict, fetch_list, target_list, options, run_metadata)\u001b[0m\n\u001b[1;32m   1119\u001b[0m         return tf_session.TF_Run(session, options,\n\u001b[1;32m   1120\u001b[0m                                  \u001b[0mfeed_dict\u001b[0m\u001b[0;34m,\u001b[0m \u001b[0mfetch_list\u001b[0m\u001b[0;34m,\u001b[0m \u001b[0mtarget_list\u001b[0m\u001b[0;34m,\u001b[0m\u001b[0;34m\u001b[0m\u001b[0m\n\u001b[0;32m-> 1121\u001b[0;31m                                  status, run_metadata)\n\u001b[0m\u001b[1;32m   1122\u001b[0m \u001b[0;34m\u001b[0m\u001b[0m\n\u001b[1;32m   1123\u001b[0m     \u001b[0;32mdef\u001b[0m \u001b[0m_prun_fn\u001b[0m\u001b[0;34m(\u001b[0m\u001b[0msession\u001b[0m\u001b[0;34m,\u001b[0m \u001b[0mhandle\u001b[0m\u001b[0;34m,\u001b[0m \u001b[0mfeed_dict\u001b[0m\u001b[0;34m,\u001b[0m \u001b[0mfetch_list\u001b[0m\u001b[0;34m)\u001b[0m\u001b[0;34m:\u001b[0m\u001b[0;34m\u001b[0m\u001b[0m\n",
      "\u001b[0;31mKeyboardInterrupt\u001b[0m: "
     ]
    }
   ],
   "source": [
    "model = create_model(l1=256, l2=256)\n",
    "\n",
    "history = History()\n",
    "model.fit(train_x, train_y, epochs=50, batch_size=BATCH_SIZE, verbose=2, \n",
    "          validation_data=(test_x, test_y), callbacks=[history])"
   ]
  },
  {
   "cell_type": "code",
   "execution_count": null,
   "metadata": {
    "collapsed": false,
    "deletable": true,
    "editable": true
   },
   "outputs": [],
   "source": [
    "%time eval_results = model.evaluate(test_x, test_y, batch_size=BATCH_SIZE, verbose=2)\n",
    "\n",
    "for k, v in zip(model.metrics_names, eval_results):\n",
    "    print(f'{k}: {v}')"
   ]
  },
  {
   "cell_type": "code",
   "execution_count": null,
   "metadata": {
    "collapsed": false,
    "deletable": true,
    "editable": true
   },
   "outputs": [],
   "source": [
    "vis_evaluate(model, test_x, test_y)"
   ]
  }
 ],
 "metadata": {
  "kernelspec": {
   "display_name": "Python 3",
   "language": "python",
   "name": "python3"
  },
  "language_info": {
   "codemirror_mode": {
    "name": "ipython",
    "version": 3
   },
   "file_extension": ".py",
   "mimetype": "text/x-python",
   "name": "python",
   "nbconvert_exporter": "python",
   "pygments_lexer": "ipython3",
   "version": "3.6.1"
  }
 },
 "nbformat": 4,
 "nbformat_minor": 2
}
