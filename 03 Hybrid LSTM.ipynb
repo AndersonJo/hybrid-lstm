{
 "cells": [
  {
   "cell_type": "code",
   "execution_count": 1,
   "metadata": {
    "collapsed": false,
    "deletable": true,
    "editable": true
   },
   "outputs": [
    {
     "name": "stdout",
     "output_type": "stream",
     "text": [
      "Populating the interactive namespace from numpy and matplotlib\n"
     ]
    },
    {
     "name": "stderr",
     "output_type": "stream",
     "text": [
      "Using TensorFlow backend.\n"
     ]
    }
   ],
   "source": [
    "%pylab inline\n",
    "# %env CUDA_VISIBLE_DEVICES=\"\"\n",
    "\n",
    "import numpy as np\n",
    "import pandas as pd\n",
    "from sklearn.model_selection import train_test_split\n",
    "from sklearn.preprocessing import MinMaxScaler\n",
    "from sklearn.metrics import r2_score\n",
    "\n",
    "from keras import backend as K\n",
    "from keras.models import Sequential\n",
    "from keras.layers import LSTM, Bidirectional, Dense\n",
    "from keras.layers import BatchNormalization, Dropout\n",
    "from keras.layers import Activation\n",
    "from keras.callbacks import History, TensorBoard\n",
    "\n",
    "from tools import load_household_power_consumption\n",
    "from tools import to_timeseries\n",
    "from tools import split_train_test\n",
    "from tools import vis_evaluate\n",
    "\n",
    "from keras.utils.vis_utils import plot_model\n",
    "from keras.utils.vis_utils import model_to_dot\n",
    "from IPython.display import display\n",
    "from IPython.display import SVG, Image"
   ]
  },
  {
   "cell_type": "markdown",
   "metadata": {
    "deletable": true,
    "editable": true
   },
   "source": [
    "# Configuration"
   ]
  },
  {
   "cell_type": "code",
   "execution_count": 2,
   "metadata": {
    "collapsed": true,
    "deletable": true,
    "editable": true
   },
   "outputs": [],
   "source": [
    "PREDICT_SIZE = 256\n",
    "BATCH_SIZE = 512"
   ]
  },
  {
   "cell_type": "markdown",
   "metadata": {
    "deletable": true,
    "editable": true
   },
   "source": [
    "# Data"
   ]
  },
  {
   "cell_type": "code",
   "execution_count": 3,
   "metadata": {
    "collapsed": false,
    "deletable": true,
    "editable": true
   },
   "outputs": [
    {
     "name": "stderr",
     "output_type": "stream",
     "text": [
      "2017-08-22 14:16:21,387 [hybrid-lstm.tool | INFO] Load existing dataset\n"
     ]
    },
    {
     "name": "stdout",
     "output_type": "stream",
     "text": [
      "data_x: (43642, 7)\n",
      "data_y: (43642, 1)\n",
      "train_x: (34504, 256, 7)\n",
      "train_y: (34504, 256, 1)\n",
      "test_x: (8627, 256, 7)\n",
      "test_y: (8627, 256, 1)\n"
     ]
    }
   ],
   "source": [
    "dataset, data_x, data_y = load_household_power_consumption()\n",
    "\n",
    "data_x = MinMaxScaler().fit_transform(data_x)\n",
    "data_y = MinMaxScaler().fit_transform(data_y)\n",
    "\n",
    "train_x, train_y, test_x, test_y = split_train_test(to_timeseries(data_x, t=PREDICT_SIZE), \n",
    "                                                    to_timeseries(data_y, t=PREDICT_SIZE), \n",
    "                                                    train_ratio=0.8)\n",
    "print('data_x:', data_x.shape)\n",
    "print('data_y:', data_y.shape)\n",
    "print('train_x:', train_x.shape)\n",
    "print('train_y:', train_y.shape)\n",
    "print('test_x:', test_x.shape)\n",
    "print('test_y:', test_y.shape)"
   ]
  },
  {
   "cell_type": "markdown",
   "metadata": {
    "deletable": true,
    "editable": true
   },
   "source": [
    "# Models"
   ]
  },
  {
   "cell_type": "code",
   "execution_count": null,
   "metadata": {
    "collapsed": false,
    "deletable": true,
    "editable": true
   },
   "outputs": [
    {
     "data": {
      "image/svg+xml": [
       "<svg height=\"304pt\" viewBox=\"0.00 0.00 442.00 304.00\" width=\"442pt\" xmlns=\"http://www.w3.org/2000/svg\" xmlns:xlink=\"http://www.w3.org/1999/xlink\">\n",
       "<g class=\"graph\" id=\"graph0\" transform=\"scale(1 1) rotate(0) translate(4 300)\">\n",
       "<title>G</title>\n",
       "<polygon fill=\"white\" points=\"-4,4 -4,-300 438,-300 438,4 -4,4\" stroke=\"none\"/>\n",
       "<!-- 140415059692400 -->\n",
       "<g class=\"node\" id=\"node1\"><title>140415059692400</title>\n",
       "<polygon fill=\"none\" points=\"41,-249.5 41,-295.5 393,-295.5 393,-249.5 41,-249.5\" stroke=\"black\"/>\n",
       "<text font-family=\"Times,serif\" font-size=\"14.00\" text-anchor=\"middle\" x=\"141\" y=\"-268.8\">bidirectional_1_input: InputLayer</text>\n",
       "<polyline fill=\"none\" points=\"241,-249.5 241,-295.5 \" stroke=\"black\"/>\n",
       "<text font-family=\"Times,serif\" font-size=\"14.00\" text-anchor=\"middle\" x=\"268.5\" y=\"-280.3\">input:</text>\n",
       "<polyline fill=\"none\" points=\"241,-272.5 296,-272.5 \" stroke=\"black\"/>\n",
       "<text font-family=\"Times,serif\" font-size=\"14.00\" text-anchor=\"middle\" x=\"268.5\" y=\"-257.3\">output:</text>\n",
       "<polyline fill=\"none\" points=\"296,-249.5 296,-295.5 \" stroke=\"black\"/>\n",
       "<text font-family=\"Times,serif\" font-size=\"14.00\" text-anchor=\"middle\" x=\"344.5\" y=\"-280.3\">(None, 256, 7)</text>\n",
       "<polyline fill=\"none\" points=\"296,-272.5 393,-272.5 \" stroke=\"black\"/>\n",
       "<text font-family=\"Times,serif\" font-size=\"14.00\" text-anchor=\"middle\" x=\"344.5\" y=\"-257.3\">(None, 256, 7)</text>\n",
       "</g>\n",
       "<!-- 140415059691784 -->\n",
       "<g class=\"node\" id=\"node2\"><title>140415059691784</title>\n",
       "<polygon fill=\"none\" points=\"0,-166.5 0,-212.5 434,-212.5 434,-166.5 0,-166.5\" stroke=\"black\"/>\n",
       "<text font-family=\"Times,serif\" font-size=\"14.00\" text-anchor=\"middle\" x=\"134.5\" y=\"-185.8\">bidirectional_1(lstm_1): Bidirectional(LSTM)</text>\n",
       "<polyline fill=\"none\" points=\"269,-166.5 269,-212.5 \" stroke=\"black\"/>\n",
       "<text font-family=\"Times,serif\" font-size=\"14.00\" text-anchor=\"middle\" x=\"296.5\" y=\"-197.3\">input:</text>\n",
       "<polyline fill=\"none\" points=\"269,-189.5 324,-189.5 \" stroke=\"black\"/>\n",
       "<text font-family=\"Times,serif\" font-size=\"14.00\" text-anchor=\"middle\" x=\"296.5\" y=\"-174.3\">output:</text>\n",
       "<polyline fill=\"none\" points=\"324,-166.5 324,-212.5 \" stroke=\"black\"/>\n",
       "<text font-family=\"Times,serif\" font-size=\"14.00\" text-anchor=\"middle\" x=\"379\" y=\"-197.3\">(None, 256, 7)</text>\n",
       "<polyline fill=\"none\" points=\"324,-189.5 434,-189.5 \" stroke=\"black\"/>\n",
       "<text font-family=\"Times,serif\" font-size=\"14.00\" text-anchor=\"middle\" x=\"379\" y=\"-174.3\">(None, 256, 256)</text>\n",
       "</g>\n",
       "<!-- 140415059692400&#45;&gt;140415059691784 -->\n",
       "<g class=\"edge\" id=\"edge1\"><title>140415059692400-&gt;140415059691784</title>\n",
       "<path d=\"M217,-249.366C217,-241.152 217,-231.658 217,-222.725\" fill=\"none\" stroke=\"black\"/>\n",
       "<polygon fill=\"black\" points=\"220.5,-222.607 217,-212.607 213.5,-222.607 220.5,-222.607\" stroke=\"black\"/>\n",
       "</g>\n",
       "<!-- 140415051650440 -->\n",
       "<g class=\"node\" id=\"node3\"><title>140415051650440</title>\n",
       "<polygon fill=\"none\" points=\"0,-83.5 0,-129.5 434,-129.5 434,-83.5 0,-83.5\" stroke=\"black\"/>\n",
       "<text font-family=\"Times,serif\" font-size=\"14.00\" text-anchor=\"middle\" x=\"134.5\" y=\"-102.8\">bidirectional_2(lstm_2): Bidirectional(LSTM)</text>\n",
       "<polyline fill=\"none\" points=\"269,-83.5 269,-129.5 \" stroke=\"black\"/>\n",
       "<text font-family=\"Times,serif\" font-size=\"14.00\" text-anchor=\"middle\" x=\"296.5\" y=\"-114.3\">input:</text>\n",
       "<polyline fill=\"none\" points=\"269,-106.5 324,-106.5 \" stroke=\"black\"/>\n",
       "<text font-family=\"Times,serif\" font-size=\"14.00\" text-anchor=\"middle\" x=\"296.5\" y=\"-91.3\">output:</text>\n",
       "<polyline fill=\"none\" points=\"324,-83.5 324,-129.5 \" stroke=\"black\"/>\n",
       "<text font-family=\"Times,serif\" font-size=\"14.00\" text-anchor=\"middle\" x=\"379\" y=\"-114.3\">(None, 256, 256)</text>\n",
       "<polyline fill=\"none\" points=\"324,-106.5 434,-106.5 \" stroke=\"black\"/>\n",
       "<text font-family=\"Times,serif\" font-size=\"14.00\" text-anchor=\"middle\" x=\"379\" y=\"-91.3\">(None, 256, 256)</text>\n",
       "</g>\n",
       "<!-- 140415059691784&#45;&gt;140415051650440 -->\n",
       "<g class=\"edge\" id=\"edge2\"><title>140415059691784-&gt;140415051650440</title>\n",
       "<path d=\"M217,-166.366C217,-158.152 217,-148.658 217,-139.725\" fill=\"none\" stroke=\"black\"/>\n",
       "<polygon fill=\"black\" points=\"220.5,-139.607 217,-129.607 213.5,-139.607 220.5,-139.607\" stroke=\"black\"/>\n",
       "</g>\n",
       "<!-- 140415051653072 -->\n",
       "<g class=\"node\" id=\"node4\"><title>140415051653072</title>\n",
       "<polygon fill=\"none\" points=\"83.5,-0.5 83.5,-46.5 350.5,-46.5 350.5,-0.5 83.5,-0.5\" stroke=\"black\"/>\n",
       "<text font-family=\"Times,serif\" font-size=\"14.00\" text-anchor=\"middle\" x=\"134.5\" y=\"-19.8\">dense_1: Dense</text>\n",
       "<polyline fill=\"none\" points=\"185.5,-0.5 185.5,-46.5 \" stroke=\"black\"/>\n",
       "<text font-family=\"Times,serif\" font-size=\"14.00\" text-anchor=\"middle\" x=\"213\" y=\"-31.3\">input:</text>\n",
       "<polyline fill=\"none\" points=\"185.5,-23.5 240.5,-23.5 \" stroke=\"black\"/>\n",
       "<text font-family=\"Times,serif\" font-size=\"14.00\" text-anchor=\"middle\" x=\"213\" y=\"-8.3\">output:</text>\n",
       "<polyline fill=\"none\" points=\"240.5,-0.5 240.5,-46.5 \" stroke=\"black\"/>\n",
       "<text font-family=\"Times,serif\" font-size=\"14.00\" text-anchor=\"middle\" x=\"295.5\" y=\"-31.3\">(None, 256, 256)</text>\n",
       "<polyline fill=\"none\" points=\"240.5,-23.5 350.5,-23.5 \" stroke=\"black\"/>\n",
       "<text font-family=\"Times,serif\" font-size=\"14.00\" text-anchor=\"middle\" x=\"295.5\" y=\"-8.3\">(None, 256, 1)</text>\n",
       "</g>\n",
       "<!-- 140415051650440&#45;&gt;140415051653072 -->\n",
       "<g class=\"edge\" id=\"edge3\"><title>140415051650440-&gt;140415051653072</title>\n",
       "<path d=\"M217,-83.3664C217,-75.1516 217,-65.6579 217,-56.7252\" fill=\"none\" stroke=\"black\"/>\n",
       "<polygon fill=\"black\" points=\"220.5,-56.6068 217,-46.6068 213.5,-56.6069 220.5,-56.6068\" stroke=\"black\"/>\n",
       "</g>\n",
       "</g>\n",
       "</svg>"
      ],
      "text/plain": [
       "<IPython.core.display.SVG object>"
      ]
     },
     "execution_count": 4,
     "metadata": {},
     "output_type": "execute_result"
    }
   ],
   "source": [
    "def r2(y_true, y_pred):\n",
    "    SS_res =  K.sum(K.square( y_true-y_pred )) \n",
    "    SS_tot = K.sum(K.square( y_true - K.mean(y_true) ) ) \n",
    "    return ( 1 - SS_res/(SS_tot + K.epsilon()) )\n",
    "\n",
    "def create_model(l1=64, l2=64):\n",
    "    np.random.seed(0)\n",
    "    model = Sequential()\n",
    "    model.add(Bidirectional(LSTM(l1, return_sequences=True), input_shape=(PREDICT_SIZE, 7)))\n",
    "    model.add(Bidirectional(LSTM(l1, return_sequences=True)))\n",
    "    model.add(Dense(1))\n",
    "    model.compile(loss='mean_squared_error', optimizer='adam', metrics=['accuracy', r2])\n",
    "    return model\n",
    "\n",
    "model = create_model(128, 128)\n",
    "SVG(model_to_dot(model, show_shapes=True).create(prog='dot', format='svg'))"
   ]
  },
  {
   "cell_type": "markdown",
   "metadata": {
    "deletable": true,
    "editable": true
   },
   "source": [
    "# Training"
   ]
  },
  {
   "cell_type": "code",
   "execution_count": null,
   "metadata": {
    "collapsed": false,
    "deletable": true,
    "editable": true
   },
   "outputs": [
    {
     "name": "stdout",
     "output_type": "stream",
     "text": [
      "Train on 34504 samples, validate on 8627 samples\n",
      "Epoch 1/10\n",
      "67s - loss: 0.0086 - acc: 0.0000e+00 - r2: 0.1698 - val_loss: 0.0015 - val_acc: 2.3047e-04 - val_r2: 0.8118\n",
      "Epoch 2/10\n"
     ]
    }
   ],
   "source": [
    "model = create_model(l1=128, l2=128)\n",
    "\n",
    "history = History()\n",
    "model.fit(train_x, train_y, epochs=10, batch_size=1024, verbose=2, \n",
    "          validation_data=(test_x, test_y), callbacks=[history])"
   ]
  },
  {
   "cell_type": "code",
   "execution_count": null,
   "metadata": {
    "collapsed": false,
    "deletable": true,
    "editable": true
   },
   "outputs": [],
   "source": [
    "%time eval_results = model.evaluate(test_x, test_y, batch_size=BATCH_SIZE, verbose=2)\n",
    "\n",
    "for k, v in zip(model.metrics_names, eval_results):\n",
    "    print(f'{k}: {v}')"
   ]
  },
  {
   "cell_type": "code",
   "execution_count": null,
   "metadata": {
    "collapsed": false,
    "deletable": true,
    "editable": true
   },
   "outputs": [],
   "source": [
    "vis_evaluate(model, test_x, test_y)"
   ]
  }
 ],
 "metadata": {
  "kernelspec": {
   "display_name": "Python 3",
   "language": "python",
   "name": "python3"
  },
  "language_info": {
   "codemirror_mode": {
    "name": "ipython",
    "version": 3
   },
   "file_extension": ".py",
   "mimetype": "text/x-python",
   "name": "python",
   "nbconvert_exporter": "python",
   "pygments_lexer": "ipython3",
   "version": "3.6.1"
  }
 },
 "nbformat": 4,
 "nbformat_minor": 2
}
